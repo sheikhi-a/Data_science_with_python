{
  "cells": [
    {
      "cell_type": "markdown",
      "metadata": {
        "id": "view-in-github",
        "colab_type": "text"
      },
      "source": [
        "<a href=\"https://colab.research.google.com/github/sheikhi-a/Data_science_with_python/blob/main/Ch3_Paul's_book.ipynb\" target=\"_parent\"><img src=\"https://colab.research.google.com/assets/colab-badge.svg\" alt=\"Open In Colab\"/></a>"
      ]
    },
    {
      "cell_type": "markdown",
      "metadata": {
        "id": "ZdKt40Fm0zYg"
      },
      "source": [
        "# The types of variables\n",
        "## انواع متغیرها"
      ]
    },
    {
      "cell_type": "code",
      "source": [],
      "metadata": {
        "id": "uYXV0bV2AQzs"
      },
      "execution_count": null,
      "outputs": []
    },
    {
      "cell_type": "code",
      "execution_count": null,
      "metadata": {
        "id": "ERGtFjoCzj2n"
      },
      "outputs": [],
      "source": [
        "y=12\n",
        "y\n",
        "type(y)"
      ]
    },
    {
      "cell_type": "code",
      "execution_count": null,
      "metadata": {
        "id": "1f2sfqhg15wv"
      },
      "outputs": [],
      "source": [
        "y1=12.4\n",
        "type(y1)\n",
        "print('The value of y1 is', y1)\n",
        "print('The value of y1 is \\n', y1)\n"
      ]
    },
    {
      "cell_type": "code",
      "execution_count": null,
      "metadata": {
        "colab": {
          "background_save": true
        },
        "collapsed": true,
        "id": "5J_-oyWzfMDx",
        "outputId": "234e82d1-c500-47c1-b786-0628167a8924"
      },
      "outputs": [
        {
          "data": {
            "text/plain": [
              "2.0"
            ]
          },
          "execution_count": 8,
          "metadata": {},
          "output_type": "execute_result"
        }
      ],
      "source": [
        "x=[1,2,3]\n",
        "print(x)\n",
        "type(x)"
      ]
    },
    {
      "cell_type": "code",
      "execution_count": null,
      "metadata": {
        "id": "EhkvSepTzKt0"
      },
      "outputs": [],
      "source": [
        "print('values of x are \\n', x)"
      ]
    },
    {
      "cell_type": "code",
      "execution_count": null,
      "metadata": {
        "id": "hejdT6lqzL1B"
      },
      "outputs": [],
      "source": [
        "y='Ali'\n",
        "type(y)\n"
      ]
    },
    {
      "cell_type": "code",
      "execution_count": null,
      "metadata": {
        "id": "X-0h4AhWzM4z"
      },
      "outputs": [],
      "source": [
        "print(type(\" Data Mining\"))\n",
        "print(type(\"10\"))\n",
        "print(type('10'))\n",
        "print(type(10))\n",
        "\n",
        "\n",
        "print(type(x))\n",
        "\n",
        "10/3\n",
        "17.5//3\n"
      ]
    },
    {
      "cell_type": "code",
      "execution_count": null,
      "metadata": {
        "id": "LjvLLmE18DkW"
      },
      "outputs": [],
      "source": [
        "n1=10\n",
        "n2=12\n",
        "n3=8\n",
        "print(n1, n2, n3)\n",
        "\n",
        "minn=n1\n",
        "if n2 < minn:\n",
        "    minn = n2\n",
        "\n",
        "if n3 < minn:\n",
        "    minn = n3\n",
        "\n",
        "print( minn)"
      ]
    },
    {
      "cell_type": "code",
      "execution_count": null,
      "metadata": {
        "id": "4PIEXCCn8afb"
      },
      "outputs": [],
      "source": [
        "min(8, 12, 10)"
      ]
    },
    {
      "cell_type": "code",
      "execution_count": null,
      "metadata": {
        "id": "mcHfqmK16-Av"
      },
      "outputs": [],
      "source": [
        "s1 = input('please insert the number   ')\n",
        "print(s1)\n",
        "type(s1)\n"
      ]
    },
    {
      "cell_type": "code",
      "execution_count": null,
      "metadata": {
        "id": "79Pxeidk7QGM"
      },
      "outputs": [],
      "source": [
        "number1 = int(input('NEMBER1   '))\n",
        "type(number1)"
      ]
    },
    {
      "cell_type": "code",
      "execution_count": null,
      "metadata": {
        "id": "F0VYlJPa1d1O"
      },
      "outputs": [],
      "source": [
        "number1 = int(input('NEMBER1   '))\n",
        "number2 = int(input('NEMBER2  '))\n",
        "number3 = int(input('NEMBER3  '))\n",
        "print(number1, number2, number3)\n",
        "\n",
        "minn = number1\n",
        "\n",
        "if number2 < minn:\n",
        "    minn = number2\n",
        "\n",
        "if number3 < minn:\n",
        "    minn = number3\n",
        "\n",
        "print( 'The mimnimum value of', number1, number2, number3, 'is', minn)\n"
      ]
    },
    {
      "cell_type": "code",
      "execution_count": null,
      "metadata": {
        "id": "IZ2F0ICJtgaI"
      },
      "outputs": [],
      "source": [
        "grade = 8\n",
        "if grade >= 10:\n",
        "    result = 'Passed'\n",
        "else:\n",
        "    result = 'Failed'\n",
        "result\n"
      ]
    },
    {
      "cell_type": "code",
      "execution_count": null,
      "metadata": {
        "id": "R41Ub95y8mcx"
      },
      "outputs": [],
      "source": [
        "result = ('Passed' if grade >= 10 else 'Failed')\n",
        "result\n"
      ]
    },
    {
      "cell_type": "code",
      "execution_count": null,
      "metadata": {
        "id": "7579NA6qpKkh"
      },
      "outputs": [],
      "source": [
        "grade =16\n",
        "if grade >= 15:\n",
        "    result = 'excellent'\n",
        "elif grade >=10:\n",
        "      result='passed'\n",
        "else:\n",
        "    result = 'Failed'\n",
        "result"
      ]
    },
    {
      "cell_type": "code",
      "execution_count": null,
      "metadata": {
        "colab": {
          "base_uri": "https://localhost:8080/"
        },
        "id": "jvgs5RcAvI_B",
        "outputId": "5b3b1f25-f059-4b8d-9a24-884c17389866"
      },
      "outputs": [
        {
          "data": {
            "text/plain": [
              "25"
            ]
          },
          "execution_count": 7,
          "metadata": {},
          "output_type": "execute_result"
        }
      ],
      "source": [
        "sum=0\n",
        "x=[2, -3, 0, 17, 9]\n",
        "for number in x:\n",
        "    sum = sum + number\n",
        "    print(sum)\n",
        "\n"
      ]
    },
    {
      "cell_type": "code",
      "execution_count": null,
      "metadata": {
        "colab": {
          "base_uri": "https://localhost:8080/"
        },
        "id": "1wghgpy_eLR4",
        "outputId": "75082872-f758-4e44-d3f3-3320154dce3c"
      },
      "outputs": [
        {
          "data": {
            "text/plain": [
              "25"
            ]
          },
          "execution_count": 8,
          "metadata": {},
          "output_type": "execute_result"
        }
      ],
      "source": [
        "total=0\n",
        "x=[2, -3, 0, 17, 9]\n",
        "for number in x:\n",
        "    total +=  number\n",
        "\n",
        "total"
      ]
    },
    {
      "cell_type": "code",
      "execution_count": null,
      "metadata": {
        "colab": {
          "base_uri": "https://localhost:8080/"
        },
        "id": "wOT6Eg7M_Sey",
        "outputId": "f94f5209-9226-4ffd-cc08-82d5a4967ef9"
      },
      "outputs": [
        {
          "data": {
            "text/plain": [
              "-9180"
            ]
          },
          "execution_count": 9,
          "metadata": {},
          "output_type": "execute_result"
        }
      ],
      "source": [
        "total=1\n",
        "x=[2, -3, 10, 17, 9]\n",
        "for number in x:\n",
        "    total *=  number\n",
        "\n",
        "total"
      ]
    },
    {
      "cell_type": "code",
      "execution_count": null,
      "metadata": {
        "id": "RZyQtjjrvZ21"
      },
      "outputs": [],
      "source": [
        "\n",
        "for counter in range(20,10, -2):\n",
        "       print(counter)"
      ]
    },
    {
      "cell_type": "code",
      "execution_count": null,
      "metadata": {
        "id": "MDd0Fy3WuaMR"
      },
      "outputs": [],
      "source": [
        "for number in range(5, 10):\n",
        "    print(number, end=' ')"
      ]
    },
    {
      "cell_type": "code",
      "execution_count": null,
      "metadata": {
        "id": "eBgKjrC-xFma"
      },
      "outputs": [],
      "source": [
        "\n",
        "\n",
        "for number in range(10, 0, -2):\n",
        "    print(number, end=' ')"
      ]
    },
    {
      "cell_type": "code",
      "execution_count": null,
      "metadata": {
        "id": "ytTfko7twRZH"
      },
      "outputs": [],
      "source": [
        "\n",
        "total=0\n",
        "for number in range(6):\n",
        "    total = total + number\n",
        "total"
      ]
    },
    {
      "cell_type": "code",
      "execution_count": null,
      "metadata": {
        "id": "WtfaVwz3C0FX"
      },
      "outputs": [],
      "source": [
        "list(range(6))"
      ]
    },
    {
      "cell_type": "code",
      "execution_count": null,
      "metadata": {
        "id": "R1lf8h8GzJBb"
      },
      "outputs": [],
      "source": [
        "\n",
        "passes = 0  # number of passes\n",
        "failures = 0  # number of failures\n",
        "\n",
        "# process 10 students\n",
        "for student in range(3):\n",
        "    # get one exam result\n",
        "    result = int(input('Enter score    '))\n",
        "\n",
        "    if result >= 10:\n",
        "        passes = passes + 1\n",
        "        print('good job')\n",
        "    else:\n",
        "        failures = failures + 1\n",
        "        print('need to try')\n",
        "\n",
        "# termination phase\n",
        "print('Passed:', passes)\n",
        "print('Failed:', failures)\n",
        "\n",
        "#if passes > 8:\n",
        " #   print('Bonus to instructor')"
      ]
    },
    {
      "cell_type": "code",
      "execution_count": null,
      "metadata": {
        "colab": {
          "base_uri": "https://localhost:8080/"
        },
        "id": "qepTBGPE0sZ6",
        "outputId": "f402901c-12fc-4721-b5f4-9d23a7b1677d"
      },
      "outputs": [
        {
          "data": {
            "text/plain": [
              "[98, 76, 71, 87, 83, 90, 57, 79, 82, 94]"
            ]
          },
          "execution_count": 4,
          "metadata": {},
          "output_type": "execute_result"
        }
      ],
      "source": [
        "# Average\n",
        "total = 0  # sum of grades\n",
        "grade_counter = 0\n",
        "grades = [98, 76, 71, 87, 83, 90, 57, 79, 82, 94]  # list of 10 grades\n",
        "# processing phase\n",
        "for grade in grades:\n",
        "    total += grade  # add current grade to the running total\n",
        "    grade_counter += 1  # indicate that one more grade was processed\n",
        "\n",
        "average = total / grade_counter\n",
        "print(f'Class average is {average}')\n"
      ]
    },
    {
      "cell_type": "code",
      "execution_count": null,
      "metadata": {
        "colab": {
          "background_save": true,
          "base_uri": "https://localhost:8080/"
        },
        "id": "TKAqg9EiBo1Q",
        "outputId": "135af62b-482c-4568-8f3c-afcdf53b4eaa"
      },
      "outputs": [
        {
          "data": {
            "text/plain": [
              "81.7"
            ]
          },
          "execution_count": 5,
          "metadata": {},
          "output_type": "execute_result"
        }
      ],
      "source": [
        "avg=sum(grades)/len(grades)\n",
        "avg"
      ]
    },
    {
      "cell_type": "code",
      "execution_count": null,
      "metadata": {
        "colab": {
          "base_uri": "https://localhost:8080/"
        },
        "id": "OsbpVMfxB7jB",
        "outputId": "a2eeddf2-e1d2-4774-e5b7-3f96bbaca872"
      },
      "outputs": [
        {
          "data": {
            "text/plain": [
              "81.7"
            ]
          },
          "execution_count": 13,
          "metadata": {},
          "output_type": "execute_result"
        }
      ],
      "source": [
        "import statistics\n",
        "statistics.mean(grades)"
      ]
    },
    {
      "cell_type": "code",
      "execution_count": null,
      "metadata": {
        "colab": {
          "base_uri": "https://localhost:8080/"
        },
        "id": "7c-LpfwACKXT",
        "outputId": "d2830058-bf8f-43a2-9078-ec18d3e38a0c"
      },
      "outputs": [
        {
          "data": {
            "text/plain": [
              "81.7"
            ]
          },
          "execution_count": 14,
          "metadata": {},
          "output_type": "execute_result"
        }
      ],
      "source": [
        "import numpy as np\n",
        "np.mean(grades)"
      ]
    }
  ],
  "metadata": {
    "colab": {
      "provenance": [],
      "authorship_tag": "ABX9TyME+nC4bjlkcKu4sygKkJb6",
      "include_colab_link": true
    },
    "kernelspec": {
      "display_name": "Python 3",
      "name": "python3"
    },
    "language_info": {
      "name": "python"
    }
  },
  "nbformat": 4,
  "nbformat_minor": 0
}