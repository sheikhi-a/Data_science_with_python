{
  "nbformat": 4,
  "nbformat_minor": 0,
  "metadata": {
    "colab": {
      "provenance": [],
      "authorship_tag": "ABX9TyMSSOTOxHqyOCvhciSRB/AD",
      "include_colab_link": true
    },
    "kernelspec": {
      "name": "python3",
      "display_name": "Python 3"
    },
    "language_info": {
      "name": "python"
    }
  },
  "cells": [
    {
      "cell_type": "markdown",
      "metadata": {
        "id": "view-in-github",
        "colab_type": "text"
      },
      "source": [
        "<a href=\"https://colab.research.google.com/github/sheikhi-a/Data_science_with_python/blob/main/regression_CV.ipynb\" target=\"_parent\"><img src=\"https://colab.research.google.com/assets/colab-badge.svg\" alt=\"Open In Colab\"/></a>"
      ]
    },
    {
      "cell_type": "code",
      "execution_count": 9,
      "metadata": {
        "id": "Ah3dO-aHu0lk"
      },
      "outputs": [],
      "source": [
        "#solve directly\n",
        "import numpy as np\n",
        "from numpy import array\n",
        "\n",
        "\n",
        "data = array([\n",
        "\t[5, 12],\n",
        "\t[6, 13],\n",
        "\t[2, 11],\n",
        "\t[5, 14],\n",
        "\t[8, 17],\n",
        "\t])\n",
        "\n",
        "\n",
        "\n",
        "X, Y = data[:,0], data[:,1]\n",
        "X\n",
        "Y\n",
        "\n",
        "n=len(X)\n",
        "n\n",
        "X_bar = np.mean(X)\n",
        "X_bar  #5.2\n",
        "Y_bar = np.mean(Y)\n",
        "Y_bar # 13.4\n",
        "n*X_bar*Y_bar\n",
        "\n",
        "\n",
        "numerator = np.sum(X  * Y )- n*X_bar*Y_bar\n",
        "denominator = np.sum(X**2)- n*X_bar**2\n",
        "\n",
        "#denominator = np.sum(X**2) - n*(X_mean)**2\n",
        "beta_hat_1 = numerator / denominator\n",
        "beta_hat_0= Y_bar - beta_hat_1 * X_bar\n",
        "\n",
        "print(\"the regression equation is:   \\n   \", \"Y=\",beta_hat_0, \"+\", beta_hat_1,\"X\" )\n",
        "\n",
        "print(\"the regression equation  between study and score is:   \\n   \", \"Score=\",beta_hat_0, \"+\", beta_hat_1,\"study\" )\n",
        "\n",
        "print(\"the  predicted value of y if x=5 is:   \\n   \", \"y_hat=\",beta_hat_0+beta_hat_1*5 )\n"
      ]
    },
    {
      "cell_type": "code",
      "source": [
        "\n",
        "import pandas as pd\n",
        "from sklearn.linear_model import LinearRegression\n",
        "\n",
        "df=pd.DataFrame(data)\n",
        "df.head()\n",
        "df = df.rename(columns={0: 'X', 1: 'Y'}) # you may need inplace=True\n",
        "\n",
        "\n",
        "x = df[['X']] #PREDICTOR\n",
        "y =df['Y']# DEPENDENT\n",
        "\n",
        "reg_model = LinearRegression()\n",
        "reg_model.fit(x, y)\n",
        "reg_model.\n",
        "beta_hat_1 = reg_model.coef_\n",
        "beta_hat_0 = reg_model.intercept_\n",
        "\n",
        "\n",
        "print(\"the regression equation is:      \", \"Y=\",beta_hat_0, \"+\", beta_hat_1[0],\"X\" )\n",
        "\n",
        "print(\"the  predicted value of y if x=8 is:   \\n   \", \"y_hat=\",beta_hat_0+beta_hat_1*8 )\n"
      ],
      "metadata": {
        "id": "j-NwZLonDuIp"
      },
      "execution_count": 7,
      "outputs": []
    },
    {
      "cell_type": "code",
      "source": [
        "from numpy.linalg import inv\n",
        "X = X.reshape((len(X), 1))  # reshape X  to a vector\n",
        "X.shape\n",
        "\n",
        "X = np.hstack((np.ones((X.shape[0], 1)), X))\n",
        "\n",
        "X.shape\n",
        "\n",
        "B = inv(X.T.dot(X)).dot(X.T).dot(y)\n",
        "print(B)\n",
        "\n",
        "print(\"the regression equation is:      \", \"Y=\",B[0], \"+\", B[1],\"X1\")\n",
        "print(\"the  predicted value of score  y if x=5 is:   \\n   \", \"y_hat=\",B[0]+B[1]*5 )\n"
      ],
      "metadata": {
        "id": "ZfFadYQsDsy1",
        "colab": {
          "base_uri": "https://localhost:8080/"
        },
        "outputId": "e14db8d4-c51a-49a6-d427-34548975d579"
      },
      "execution_count": null,
      "outputs": [
        {
          "output_type": "stream",
          "name": "stdout",
          "text": [
            "the  predicted value of score  y if x=5 is:   \n",
            "    y_hat= 13.212765957446829\n"
          ]
        }
      ]
    },
    {
      "cell_type": "code",
      "source": [
        "import matplotlib.pyplot as plt\n",
        "\n",
        "yhat = X.dot(B)# predicted value of y\n",
        "y\n",
        "plt.scatter(X[:,1], y)\n",
        "plt.scatter(y, yhat)\n",
        "pyplot.plot(X[:,1], yhat, color='red')\n",
        "pyplot.show()"
      ],
      "metadata": {
        "id": "8CHyBbr5LJDo"
      },
      "execution_count": null,
      "outputs": []
    },
    {
      "cell_type": "code",
      "source": [
        "from scipy.stats import pearsonr\n",
        "\n",
        "corr = pearsonr(yhat, y)\n",
        "corr"
      ],
      "metadata": {
        "id": "eYPeDH9mLR5y"
      },
      "execution_count": 6,
      "outputs": []
    },
    {
      "cell_type": "code",
      "source": [
        "data = array([\n",
        "\t[0.05, 3, 0.12],\n",
        "\t[0.18, 4,  0.22],\n",
        "\t[0.31,8, 0.95],\n",
        "\t[0.42, 5, 0.38],\n",
        "\t[0.35,1,  0.49],\n",
        "\t])\n",
        "X, y = data[:,0:2], data[:,2]\n",
        "X = np.hstack((np.ones((X.shape[0], 1)), X))\n",
        "\n",
        "X.shape\n",
        "\n",
        "B = inv(X.T.dot(X)).dot(X.T).dot(y)\n",
        "print(B)\n",
        "\n",
        "print(\"the regression equation is: \\n     \", \"Y=\",B[0], \"+\", B[1],\"X1\",'+', B[2], 'X2' )\n",
        "\n",
        "yhat = X.dot(B)\n",
        "plt.scatter(y, yhat)\n",
        "corr = pearsonr(yhat, y)\n",
        "\n",
        "\n",
        "\n",
        "X_new=array([0.45,3])\n",
        "X_new1 = np.hstack((np.ones(1), X_new))\n",
        "\n",
        "\n",
        "y_hat_new=X_new1.dot(B)\n",
        "y_hat_new\n",
        "y_new=0.6\n",
        "error_in_prediction=y_new-y_hat_new\n",
        "print(\"the  predicted value of y if x=[0.45,3] is:   \\n   \", \"y_hat=\",y_hat_new)\n",
        "\n"
      ],
      "metadata": {
        "id": "50rYsKUvw9bB",
        "colab": {
          "base_uri": "https://localhost:8080/"
        },
        "outputId": "332692ca-346b-48a1-dbd7-52b44164fa83"
      },
      "execution_count": null,
      "outputs": [
        {
          "output_type": "execute_result",
          "data": {
            "text/plain": [
              "0.06831216263394035"
            ]
          },
          "metadata": {},
          "execution_count": 53
        }
      ]
    },
    {
      "cell_type": "code",
      "source": [
        "df=pd.DataFrame(data)\n",
        "df.head()\n",
        "df = df.rename(columns={0: 'X1', 1: 'X2', 2: 'Y'}) # you may need inplace=True\n",
        "\n",
        "\n",
        "x = df[['X1', 'X2']] #PREDICTOR\n",
        "y =df['Y']# DEPENDENT\n",
        "\n",
        "reg_model = LinearRegression()\n",
        "reg_model.fit(x, y)\n",
        "\n",
        "beta_hat_1 = reg_model.coef_\n",
        "beta_hat_0 = reg_model.intercept_\n",
        "\n",
        "\n",
        "\n"
      ],
      "metadata": {
        "id": "UBaoQ7D8_Bve",
        "colab": {
          "base_uri": "https://localhost:8080/"
        },
        "outputId": "07f4af21-e462-4519-cc46-32732a008058"
      },
      "execution_count": null,
      "outputs": [
        {
          "output_type": "execute_result",
          "data": {
            "text/plain": [
              "-0.11611542283212917"
            ]
          },
          "metadata": {},
          "execution_count": 57
        }
      ]
    },
    {
      "cell_type": "code",
      "source": [
        "data_new = array([\n",
        "\t[0.05, 6, 0.02],\n",
        "\t[0.11, 4,  0.5],\n",
        "  [0.45, 8,  0.05]])\n",
        "\n",
        "x_new=data_new[:,0:2]\n",
        "y_new=data_new[:,2]\n",
        "\n",
        "y_hat=reg_model.predict(x_new)\n",
        "ss_test=np.sum((y_new-y_hat)**2)\n",
        "ss_test\n",
        "\n",
        "corr = pearsonr(y_hat, y_new)\n",
        "corr"
      ],
      "metadata": {
        "id": "A1g5DsZY_1O6",
        "colab": {
          "base_uri": "https://localhost:8080/"
        },
        "outputId": "b7629b4e-70fb-479b-fe70-2c8d22174c55"
      },
      "execution_count": null,
      "outputs": [
        {
          "output_type": "execute_result",
          "data": {
            "text/plain": [
              "PearsonRResult(statistic=-0.5564173349393764, pvalue=0.624351190232977)"
            ]
          },
          "metadata": {},
          "execution_count": 65
        }
      ]
    },
    {
      "cell_type": "code",
      "source": [
        "data = pd.read_csv(\"data_bmi.csv\")\n",
        "data.shape\n",
        "data.head()\n",
        "real_data=data\n",
        "\n",
        "real_data = real_data.rename(columns={'TEMP( 0F)': 'TEMP'})\n",
        "from statistics import mean\n",
        "data.FFNUM[16]=mean(data.FFNUM)\n",
        "data.tail()\n",
        "real_data=data\n"
      ],
      "metadata": {
        "id": "ZH-DDZNl7tCu"
      },
      "execution_count": 3,
      "outputs": []
    },
    {
      "cell_type": "code",
      "source": [
        "x = real_data[['AGE', 'TEMP', 'FFNUM']] #PREDICTOR\n",
        "y =real_data['BMI']# DEPENDENT\n",
        "\n",
        "reg_model = LinearRegression()\n",
        "reg_model.fit(x, y)\n",
        "\n",
        "beta_hat_1 = reg_model.coef_\n",
        "beta_hat_0 = reg_model.intercept_\n",
        "\n"
      ],
      "metadata": {
        "id": "YgCniMKo8-Yx"
      },
      "execution_count": null,
      "outputs": []
    },
    {
      "cell_type": "code",
      "source": [
        "real_data_new = array([\n",
        "\t[36, 60, 6, 19],\n",
        "\t[45,70,5,26]])\n",
        "\n",
        "x_new=real_data_new[:,0:3]\n",
        "y_new=real_data_new[:,3]\n",
        "\n",
        "y_hat=reg_model.predict(x_new)\n",
        "y_hat"
      ],
      "metadata": {
        "colab": {
          "base_uri": "https://localhost:8080/"
        },
        "id": "bCjpRtPW9idx",
        "outputId": "506dee66-d987-495c-cd64-8d3701a48ad6"
      },
      "execution_count": null,
      "outputs": [
        {
          "output_type": "stream",
          "name": "stderr",
          "text": [
            "/usr/local/lib/python3.10/dist-packages/sklearn/utils/validation.py:2739: UserWarning: X does not have valid feature names, but LinearRegression was fitted with feature names\n",
            "  warnings.warn(\n"
          ]
        },
        {
          "output_type": "execute_result",
          "data": {
            "text/plain": [
              "array([30.45109301, 26.74041159])"
            ]
          },
          "metadata": {},
          "execution_count": 186
        }
      ]
    },
    {
      "cell_type": "code",
      "source": [
        "x_train= x[0:12]\n",
        "y_train =y[0:12]\n",
        "\n",
        "x_test= x[12:17]\n",
        "y_test =y[12:17]\n",
        "x.shape\n",
        "x_train.shape\n",
        "x_test.shape\n",
        "12/17\n",
        "\n",
        "reg_model = LinearRegression()\n",
        "reg_model.fit(x_train, y_train)\n",
        "\n",
        "beta_hat_1_train = reg_model.coef_\n",
        "beta_hat_0_train  = reg_model.intercept_\n",
        "\n",
        "y_hat=reg_model.predict(x_test)\n",
        "\n",
        "sse=sum((y_hat-y_test)**2)\n",
        "pearsonr(y_hat, y_test)\n",
        "\n",
        "\n",
        "\n",
        "\n"
      ],
      "metadata": {
        "colab": {
          "base_uri": "https://localhost:8080/"
        },
        "id": "VNSoYyv5-wCG",
        "outputId": "bf7ffb36-888a-44f1-eea3-bc0c32683b9b"
      },
      "execution_count": null,
      "outputs": [
        {
          "output_type": "execute_result",
          "data": {
            "text/plain": [
              "380.39933798503125"
            ]
          },
          "metadata": {},
          "execution_count": 192
        }
      ]
    },
    {
      "cell_type": "code",
      "source": [
        "from sklearn.model_selection import train_test_split\n",
        "from sklearn.metrics import mean_squared_error\n",
        "\n",
        "\n",
        "\n",
        "X_train, X_test, y_train, y_test = train_test_split(x, y, test_size=0.3)\n",
        "\n",
        "reg_model = LinearRegression()\n",
        "reg_model.fit(X_train, y_train)\n",
        "\n",
        "beta_hat_1_train = reg_model.coef_\n",
        "beta_hat_0_train = reg_model.intercept_\n",
        "\n",
        "y_hat = reg_model.predict(X_test)\n",
        "mse = mean_squared_error(y_test, y_hat)\n",
        "pearsonr(y_test, y_hat)\n",
        "\n"
      ],
      "metadata": {
        "id": "AmE17SKfEUY3"
      },
      "execution_count": 5,
      "outputs": []
    },
    {
      "cell_type": "code",
      "source": [
        "\n",
        "\n",
        "#real_data = pd.read_csv(\"data_bmi.csv\")\n",
        "\n",
        "x = real_data[['AGE', 'TEMP', 'FFNUM']] #PREDICTOR\n",
        "y =real_data['BMI']# DEPENDENT\n",
        "x=x[0:15]\n",
        "y=y[0:15]\n",
        "n_folds = 5\n",
        "fold_size = len(y) // n_folds\n",
        "\n",
        "mse_list = []\n",
        "i=5\n",
        "for i in range(n_folds):\n",
        "    x_test = x[i * fold_size: (i + 1) * fold_size]\n",
        "    y_test = y[i * fold_size: (i + 1) * fold_size]\n",
        "\n",
        "    x_train = np.delete(x, np.arange(i * fold_size, (i + 1) * fold_size), axis=0)\n",
        "    y_train = np.delete(y, np.arange(i * fold_size, (i + 1) * fold_size), axis=0)\n",
        "\n",
        "    reg_model = LinearRegression()\n",
        "    reg_model.fit(x_train, y_train)\n",
        "    y_hat = reg_model.predict(x_test)\n",
        "    mse = sum((y_hat - y_test) ** 2) / len(y_test)\n",
        "    mse_list.append(mse)\n",
        "\n",
        "avg_mse = np.mean(mse_list)\n",
        "avg_mse\n"
      ],
      "metadata": {
        "colab": {
          "base_uri": "https://localhost:8080/"
        },
        "id": "AOTt_dmd24tB",
        "outputId": "fc988a50-c07a-403f-b3f4-964b47cc3975"
      },
      "execution_count": null,
      "outputs": [
        {
          "output_type": "stream",
          "name": "stderr",
          "text": [
            "/usr/local/lib/python3.10/dist-packages/sklearn/utils/validation.py:2732: UserWarning: X has feature names, but LinearRegression was fitted without feature names\n",
            "  warnings.warn(\n",
            "/usr/local/lib/python3.10/dist-packages/sklearn/utils/validation.py:2732: UserWarning: X has feature names, but LinearRegression was fitted without feature names\n",
            "  warnings.warn(\n",
            "/usr/local/lib/python3.10/dist-packages/sklearn/utils/validation.py:2732: UserWarning: X has feature names, but LinearRegression was fitted without feature names\n",
            "  warnings.warn(\n",
            "/usr/local/lib/python3.10/dist-packages/sklearn/utils/validation.py:2732: UserWarning: X has feature names, but LinearRegression was fitted without feature names\n",
            "  warnings.warn(\n",
            "/usr/local/lib/python3.10/dist-packages/sklearn/utils/validation.py:2732: UserWarning: X has feature names, but LinearRegression was fitted without feature names\n",
            "  warnings.warn(\n"
          ]
        },
        {
          "output_type": "execute_result",
          "data": {
            "text/plain": [
              "54.96791823398303"
            ]
          },
          "metadata": {},
          "execution_count": 195
        }
      ]
    },
    {
      "cell_type": "code",
      "source": [
        "\n",
        "\n",
        "#real_data = pd.read_csv(\"data_bmi.csv\")\n",
        "\n",
        "x = real_data[['AGE', 'TEMP', 'FFNUM']] #PREDICTOR\n",
        "y =real_data['BMI']# DEPENDENT\n",
        "\n",
        "n_folds = 5\n",
        "fold_size = len(y) // n_folds\n",
        "\n",
        "mse_list = []\n",
        "for i in range(n_folds):\n",
        "    x_test = x[i * fold_size: min((i + 1) * fold_size, x.shape[0])]\n",
        "    y_test = y[i * fold_size: min((i + 1) * fold_size, y.shape[0])]\n",
        "\n",
        "    x_train = np.delete(x, np.arange(i * fold_size, min((i + 1) * fold_size, x.shape[0])), axis=0)\n",
        "    y_train = np.delete(y, np.arange(i * fold_size, min((i + 1) * fold_size, y.shape[0])), axis=0)\n",
        "\n",
        "    reg_model = LinearRegression()\n",
        "    reg_model.fit(x_train, y_train)\n",
        "    y_hat = reg_model.predict(x_test)\n",
        "    mse = sum((y_hat - y_test) ** 2) / len(y_test)\n",
        "    mse_list.append(mse)\n",
        "\n",
        "avg_mse = np.mean(mse_list)\n",
        "avg_mse\n"
      ],
      "metadata": {
        "colab": {
          "base_uri": "https://localhost:8080/"
        },
        "id": "nz6Jk16F_jym",
        "outputId": "bd1476cb-2279-44b5-c51e-5f92a44600ad"
      },
      "execution_count": null,
      "outputs": [
        {
          "output_type": "stream",
          "name": "stderr",
          "text": [
            "/usr/local/lib/python3.10/dist-packages/sklearn/utils/validation.py:2732: UserWarning: X has feature names, but LinearRegression was fitted without feature names\n",
            "  warnings.warn(\n",
            "/usr/local/lib/python3.10/dist-packages/sklearn/utils/validation.py:2732: UserWarning: X has feature names, but LinearRegression was fitted without feature names\n",
            "  warnings.warn(\n",
            "/usr/local/lib/python3.10/dist-packages/sklearn/utils/validation.py:2732: UserWarning: X has feature names, but LinearRegression was fitted without feature names\n",
            "  warnings.warn(\n",
            "/usr/local/lib/python3.10/dist-packages/sklearn/utils/validation.py:2732: UserWarning: X has feature names, but LinearRegression was fitted without feature names\n",
            "  warnings.warn(\n",
            "/usr/local/lib/python3.10/dist-packages/sklearn/utils/validation.py:2732: UserWarning: X has feature names, but LinearRegression was fitted without feature names\n",
            "  warnings.warn(\n"
          ]
        }
      ]
    },
    {
      "cell_type": "code",
      "source": [
        "from sklearn.model_selection import KFold\n",
        "\n",
        "\n",
        "x = real_data[['AGE', 'TEMP', 'FFNUM']]\n",
        "y = real_data['BMI']\n",
        "\n",
        "kf = KFold(n_splits=5, shuffle=True, random_state=42)\n",
        "mse_list = []\n",
        "\n",
        "for train_index, test_index in kf.split(x):\n",
        "    x_train, x_test = x.iloc[train_index], x.iloc[test_index]\n",
        "    y_train, y_test = y.iloc[train_index], y.iloc[test_index]\n",
        "\n",
        "    model = LinearRegression()\n",
        "    model.fit(x_train, y_train)\n",
        "    y_pred = model.predict(x_test)\n",
        "\n",
        "    mse = mean_squared_error(y_test, y_pred)\n",
        "    mse_list.append(mse)\n",
        "\n",
        "average_mse = np.mean(mse_list)\n",
        "\n",
        "\n",
        "ss_list=[]\n",
        "ss_list.append(2)"
      ],
      "metadata": {
        "colab": {
          "base_uri": "https://localhost:8080/"
        },
        "id": "MQ4EGsYH3ewo",
        "outputId": "efa0743a-c93e-4fd4-8579-b53a84cbb001"
      },
      "execution_count": 11,
      "outputs": [
        {
          "output_type": "execute_result",
          "data": {
            "text/plain": [
              "29.595930901403428"
            ]
          },
          "metadata": {},
          "execution_count": 11
        }
      ]
    },
    {
      "cell_type": "code",
      "source": [
        "x = real_data[['AGE',  'FFNUM']]\n",
        "y = real_data['BMI']\n",
        "\n",
        "kf = KFold(n_splits=5, shuffle=True, random_state=42)\n",
        "mse_list = []\n",
        "\n",
        "for train_index, test_index in kf.split(x):\n",
        "    x_train, x_test = x.iloc[train_index], x.iloc[test_index]\n",
        "    y_train, y_test = y.iloc[train_index], y.iloc[test_index]\n",
        "\n",
        "    model = LinearRegression()\n",
        "    model.fit(x_train, y_train)\n",
        "    y_pred = model.predict(x_test)\n",
        "\n",
        "    mse = mean_squared_error(y_test, y_pred)\n",
        "    mse_list.append(mse)\n",
        "\n",
        "average_mse = np.mean(mse_list)\n"
      ],
      "metadata": {
        "colab": {
          "base_uri": "https://localhost:8080/"
        },
        "id": "rOxndv_c4hKU",
        "outputId": "b80887cb-0a7f-4620-f8d2-8d7de3675553"
      },
      "execution_count": 13,
      "outputs": [
        {
          "output_type": "execute_result",
          "data": {
            "text/plain": [
              "26.196978147463135"
            ]
          },
          "metadata": {},
          "execution_count": 13
        }
      ]
    }
  ]
}