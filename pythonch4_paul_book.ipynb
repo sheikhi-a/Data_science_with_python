{
  "cells": [
    {
      "cell_type": "markdown",
      "metadata": {
        "id": "view-in-github",
        "colab_type": "text"
      },
      "source": [
        "<a href=\"https://colab.research.google.com/github/sheikhi-a/Data_science_with_python/blob/main/pythonch4_paul_book.ipynb\" target=\"_parent\"><img src=\"https://colab.research.google.com/assets/colab-badge.svg\" alt=\"Open In Colab\"/></a>"
      ]
    },
    {
      "cell_type": "code",
      "execution_count": null,
      "metadata": {
        "id": "VEMtp-T_iN9G",
        "colab": {
          "base_uri": "https://localhost:8080/"
        },
        "outputId": "8d6578ad-a9ee-4c3a-b368-1c19b98637ba"
      },
      "outputs": [
        {
          "output_type": "execute_result",
          "data": {
            "text/plain": [
              "['m', 'n', 's', 'P', 'y', 't', 'h', 'o', 'n', ' ', 'c', 'o', 'd', 'e', 's']"
            ]
          },
          "metadata": {},
          "execution_count": 90
        }
      ],
      "source": [
        "x=[7,6,5,8,14,10]\n",
        "\n",
        "x[:4]\n",
        "x[3:4]\n",
        "\n",
        "x[3:]\n",
        "x[:]\n",
        "x[::3] #slicing with step\n",
        "\n",
        "list1=[]\n",
        "for i in x:\n",
        "  list1 +=[i]\n",
        "\n",
        "list1\n",
        "\n",
        "letters = []\n",
        "\n",
        "\n",
        "y=['m','n','s']\n",
        "for i in y:\n",
        "  letters +=[i]\n",
        "\n",
        "letters += 'Python codes'\n",
        "letters\n",
        "\n",
        "\n"
      ]
    },
    {
      "cell_type": "code",
      "execution_count": null,
      "metadata": {
        "colab": {
          "base_uri": "https://localhost:8080/"
        },
        "id": "gf9GP0pQ2KA_",
        "outputId": "267f5061-7999-41f5-f4be-4f965ca3c287"
      },
      "outputs": [
        {
          "data": {
            "text/plain": [
              "[]"
            ]
          },
          "execution_count": 35,
          "metadata": {},
          "output_type": "execute_result"
        }
      ],
      "source": [
        "y=[1,2,3,10]\n",
        "z=[1,2,3,14]\n",
        "y==z\n",
        "y>x\n",
        "z>=y\n",
        "z[3]=[]\n",
        "z\n",
        "del z[2]\n",
        "\n",
        "del y[::2]\n",
        "y\n",
        "del y[:]"
      ]
    },
    {
      "cell_type": "code",
      "execution_count": null,
      "metadata": {
        "colab": {
          "base_uri": "https://localhost:8080/"
        },
        "id": "zm4E5SisxVRJ",
        "outputId": "a2a3694c-2a99-40d1-a37b-84317a8ebd68"
      },
      "outputs": [
        {
          "data": {
            "text/plain": [
              "[1, 2, 3, 4, 5, 6, 7, 8, 9, 10]"
            ]
          },
          "execution_count": 6,
          "metadata": {},
          "output_type": "execute_result"
        }
      ],
      "source": [
        "numbers = [10, 3, 7, 1, 9, 4, 2, 8, 5, 6]\n",
        "\n",
        "numbers.sort()\n",
        "numbers\n",
        "\n",
        "numbers.sort(reverse=True)\n",
        "numbers.sort(reverse=False)\n",
        "\n",
        "numbers\n"
      ]
    },
    {
      "cell_type": "code",
      "execution_count": null,
      "metadata": {
        "id": "NKJN4Oga6nIp"
      },
      "outputs": [],
      "source": []
    },
    {
      "cell_type": "code",
      "execution_count": null,
      "metadata": {
        "colab": {
          "base_uri": "https://localhost:8080/"
        },
        "id": "uGacc6OVuC-A",
        "outputId": "21560eb7-6d1f-45ca-c1e4-1bdd47b51628"
      },
      "outputs": [
        {
          "data": {
            "text/plain": [
              "['blue', 'green', 'orange', 'red', 'yellow']"
            ]
          },
          "execution_count": 23,
          "metadata": {},
          "output_type": "execute_result"
        }
      ],
      "source": [
        "# Built-In Function sorted\n",
        "numbers = [10, 3, 7, 1, 9, 4, 2, 8, 5, 6]\n",
        "\n",
        "ascending_numbers = sorted(numbers)\n",
        "\n",
        "ascending_numbers\n",
        "\n",
        "numbers\n",
        "\n",
        "letters = 'chgczhgxc,xh'\n",
        "\n",
        "ascending_letters = sorted(letters)\n",
        "ascending_letters2 = sorted(letters, reverse=True)\n",
        "\n",
        "\n",
        "colors = ('red', 'orange', 'yellow', 'green', 'blue')\n",
        "\n",
        "ascending_colors = sorted(colors)\n",
        "\n",
        "ascending_colors\n"
      ]
    },
    {
      "cell_type": "markdown",
      "metadata": {
        "id": "JGfBcpIgMqDm"
      },
      "source": [
        "## Functions in python"
      ]
    },
    {
      "cell_type": "code",
      "execution_count": null,
      "metadata": {
        "colab": {
          "base_uri": "https://localhost:8080/"
        },
        "id": "_bGDw0XAN12A",
        "outputId": "6d3b38a9-5d31-4df6-b516-3a1a300acf27"
      },
      "outputs": [
        {
          "name": "stdout",
          "output_type": "stream",
          "text": [
            "81\n"
          ]
        }
      ],
      "source": [
        "def f(x):\n",
        "  y=x**2\n",
        "  return(y)\n",
        "\n",
        "print(f(9))\n",
        "\n",
        "\n",
        "def g(x):\n",
        "  return(x**2)\n",
        "\n",
        "g(6)\n",
        "\n",
        "\n",
        "\n",
        "\n"
      ]
    },
    {
      "cell_type": "code",
      "execution_count": null,
      "metadata": {
        "colab": {
          "base_uri": "https://localhost:8080/"
        },
        "id": "qvkGqiwiZVAs",
        "outputId": "08ffb4c5-3712-4e87-f6d6-d0f3659cd34d"
      },
      "outputs": [
        {
          "data": {
            "text/plain": [
              "529"
            ]
          },
          "execution_count": 32,
          "metadata": {},
          "output_type": "execute_result"
        }
      ],
      "source": [
        "def square_fun(num):\n",
        "    return num**2\n",
        "\n",
        "square_fun(23)"
      ]
    },
    {
      "cell_type": "code",
      "execution_count": null,
      "metadata": {
        "colab": {
          "base_uri": "https://localhost:8080/"
        },
        "id": "IyM6LBwTZnRg",
        "outputId": "3797a5cf-c4bc-4cda-83c1-5c0ab5203464"
      },
      "outputs": [
        {
          "data": {
            "text/plain": [
              "259515.57093425601"
            ]
          },
          "execution_count": 41,
          "metadata": {},
          "output_type": "execute_result"
        }
      ],
      "source": [
        "\n",
        "def Bmi_fun(length, weight):\n",
        "  length=length/100\n",
        "  BMI=weight/length**2\n",
        "  return BMI\n",
        "\n",
        "\n",
        "\n",
        "Bmi_fun(1.70, 75)"
      ]
    },
    {
      "cell_type": "code",
      "execution_count": null,
      "metadata": {
        "colab": {
          "base_uri": "https://localhost:8080/"
        },
        "id": "P9J-fQKYanTa",
        "outputId": "95d7f672-0a50-4f2a-dbdf-c02b5cd33c98"
      },
      "outputs": [
        {
          "name": "stdout",
          "output_type": "stream",
          "text": [
            "Enter your length in cm: 175\n",
            "Enter your weight in kg: 70\n",
            "Your Bmi is 22.857142857142858\n"
          ]
        }
      ],
      "source": [
        "x = input(\"Enter x\")\n",
        "type(x)\n",
        "1/x\n",
        "length1 = int(input(\"Enter your length in cm: \"))\n",
        "\n",
        "length = int(input(\"Enter your length in cm: \"))\n",
        "weight = int(input(\"Enter your weight in kg: \"))\n",
        "bmi=Bmi_fun(length, weight)\n",
        "print('Your Bmi is', bmi)"
      ]
    },
    {
      "cell_type": "code",
      "execution_count": null,
      "metadata": {
        "colab": {
          "base_uri": "https://localhost:8080/"
        },
        "id": "rLhHoO-4T3Fy",
        "outputId": "61d94221-a752-49cc-d5b0-ae32d78a4531"
      },
      "outputs": [
        {
          "data": {
            "text/plain": [
              "24.221453287197235"
            ]
          },
          "execution_count": 64,
          "metadata": {},
          "output_type": "execute_result"
        }
      ],
      "source": []
    },
    {
      "cell_type": "code",
      "execution_count": null,
      "metadata": {
        "colab": {
          "base_uri": "https://localhost:8080/"
        },
        "id": "-D42fy7dixgT",
        "outputId": "325b970a-428a-4a7f-f7d6-bdcbfd148873"
      },
      "outputs": [
        {
          "data": {
            "text/plain": [
              "13.5"
            ]
          },
          "execution_count": 68,
          "metadata": {},
          "output_type": "execute_result"
        }
      ],
      "source": [
        "def maximum(value1, value2, value3):\n",
        "    \"\"\"Return the maximum of three values.\"\"\"\n",
        "    max_value = value1\n",
        "    if value2 > max_value:\n",
        "        max_value = value2\n",
        "    if value3 > max_value:\n",
        "        max_value = value3\n",
        "    return max_value\n",
        "\n",
        "maximum(12, 27, 36)\n",
        "\n",
        "maximum(12.3, 45.6, 9.7)\n",
        "\n",
        "maximum('blue', 'red', 'orange')\n",
        "\n",
        "maximum(13.5, -3, 7)"
      ]
    },
    {
      "cell_type": "code",
      "execution_count": null,
      "metadata": {
        "id": "4oNnU3KD6o-l"
      },
      "outputs": [],
      "source": []
    },
    {
      "cell_type": "code",
      "execution_count": null,
      "metadata": {
        "colab": {
          "base_uri": "https://localhost:8080/"
        },
        "id": "9Z-mW6Zli1Wa",
        "outputId": "c1ddfac4-a397-48c6-81a7-48200e9ac8f5"
      },
      "outputs": [
        {
          "data": {
            "text/plain": [
              "3"
            ]
          },
          "execution_count": 69,
          "metadata": {},
          "output_type": "execute_result"
        }
      ],
      "source": [
        "def minn(n1, n2):\n",
        "    if n1<n2:\n",
        "       minn_v=n1\n",
        "    else:\n",
        "       minn_v=n2\n",
        "    return minn_v\n",
        "\n",
        "minn(3,8)"
      ]
    },
    {
      "cell_type": "code",
      "execution_count": null,
      "metadata": {
        "colab": {
          "base_uri": "https://localhost:8080/"
        },
        "id": "fRHIS_dJmdzB",
        "outputId": "e4e26b26-6d26-4af7-bf33-4682a1165440"
      },
      "outputs": [
        {
          "data": {
            "text/plain": [
              "array([[1, 2, 3],\n",
              "       [4, 6, 7]])"
            ]
          },
          "execution_count": 46,
          "metadata": {},
          "output_type": "execute_result"
        }
      ],
      "source": [
        "def minimum_fun(num1=3, num2=12):\n",
        "    if num1<num2:\n",
        "       minimum_value=num1\n",
        "    else:\n",
        "       minimum_value=num2\n",
        "    return minimum_value\n",
        "\n",
        "minimum_fun()\n",
        "minimum_fun(5,)\n",
        "minimum_fun(num2=5,num1=2)\n",
        "minimum_fun(num1=20)\n",
        "minimum_fun(num2=2, num1=10)\n",
        "\n",
        "import numpy as np\n",
        "\n",
        "x = minimum_fun()\n",
        "y = np.arange(21, 31)\n",
        "\n",
        "m = np.hstack((minimum_fun(),\n",
        "               minimum_fun(5,),\n",
        "               minimum_fun(num2=5,num1=2),\n",
        "               minimum_fun(num1=20),\n",
        "               minimum_fun(num2=2, num1=10)))\n",
        "print(m)\n",
        "\n",
        "m1 = np.vstack((minimum_fun(),\n",
        "               minimum_fun(5,),\n",
        "               minimum_fun(num2=5,num1=2),\n",
        "               minimum_fun(num1=20),\n",
        "               minimum_fun(num2=2, num1=10)))\n",
        "print(m1)"
      ]
    },
    {
      "cell_type": "code",
      "execution_count": null,
      "metadata": {
        "colab": {
          "base_uri": "https://localhost:8080/"
        },
        "id": "n7kVM75PaiGE",
        "outputId": "848a3ddd-10d6-404d-ddcf-61379ef7e72c"
      },
      "outputs": [
        {
          "output_type": "execute_result",
          "data": {
            "text/plain": [
              "2.6666666699994988"
            ]
          },
          "metadata": {},
          "execution_count": 101
        }
      ],
      "source": [
        "def area_under_curve(lower, upper, step):\n",
        "    total_area = 0\n",
        "    x1 = lower\n",
        "    while x1 < upper:\n",
        "         y_lower = x1*x1\n",
        "         x1 = x1 + step\n",
        "         if x1 < upper:\n",
        "           y_higher = x1*x1\n",
        "           area_rectangle = y_lower*step\n",
        "           area_triangle = (y_higher - y_lower)*0.5*step\n",
        "           area_trapezium = area_rectangle + area_triangle\n",
        "           total_area = total_area + area_trapezium\n",
        "    return total_area\n",
        "\n",
        "area_under_curve(0, 5, 0.001)\n",
        "area_under_curve(0, 1, .0001)"
      ]
    },
    {
      "cell_type": "code",
      "execution_count": null,
      "metadata": {
        "colab": {
          "base_uri": "https://localhost:8080/"
        },
        "id": "RDRI08AobPhp",
        "outputId": "e032aa04-ed3a-4ea5-f1fd-0b26501742c7"
      },
      "outputs": [
        {
          "output_type": "execute_result",
          "data": {
            "text/plain": [
              "[1, 2, 3, 7, 8, 3]"
            ]
          },
          "metadata": {},
          "execution_count": 94
        }
      ],
      "source": [
        "x=[1,2,3]\n",
        "y=[7,8,3]\n",
        "x+y"
      ]
    },
    {
      "cell_type": "code",
      "source": [
        "\n",
        "\n",
        "import numpy as np\n",
        "from matplotlib import pyplot as plt\n",
        "def f(t):\n",
        "    return t * t\n",
        "\n",
        "\n",
        "\n",
        "\n",
        "t = np.arange(-4,4,1/40.)\n",
        "plt.plot(t,f(t))\n",
        "dist = np.arange(0, 2, 1/20.)\n",
        "plt.fill_between(dist,f(dist))"
      ],
      "metadata": {
        "colab": {
          "base_uri": "https://localhost:8080/",
          "height": 447
        },
        "id": "18_Rsy49Eh6C",
        "outputId": "053817d5-951b-43cd-863c-57e9cb916bdf"
      },
      "execution_count": null,
      "outputs": [
        {
          "output_type": "execute_result",
          "data": {
            "text/plain": [
              "<matplotlib.collections.FillBetweenPolyCollection at 0x78f940a5ba90>"
            ]
          },
          "metadata": {},
          "execution_count": 103
        },
        {
          "output_type": "display_data",
          "data": {
            "text/plain": [
              "<Figure size 640x480 with 1 Axes>"
            ],
            "image/png": "[encoded data removed]"
          },
          "metadata": {}
        }
      ]
    },
    {
      "cell_type": "code",
      "execution_count": null,
      "metadata": {
        "colab": {
          "base_uri": "https://localhost:8080/"
        },
        "id": "Cg0QhAFqn7xa",
        "outputId": "3620127e-e1f8-4b62-8bcf-f0cdb2d011e2"
      },
      "outputs": [
        {
          "output_type": "execute_result",
          "data": {
            "text/plain": [
              "0.5"
            ]
          },
          "metadata": {},
          "execution_count": 112
        }
      ],
      "source": [
        "from scipy.stats import norm\n",
        "norm.pdf(0)\n",
        "\n",
        "1 / np.sqrt(2 * np.pi) * np.exp(0)\n",
        "\n",
        "norm.cdf(0)\n",
        "\n"
      ]
    },
    {
      "cell_type": "code",
      "execution_count": null,
      "metadata": {
        "colab": {
          "base_uri": "https://localhost:8080/"
        },
        "id": "yw7FLCxAvKEZ",
        "outputId": "1a7b911e-ffb6-426d-8f77-e5db9baef788"
      },
      "outputs": [
        {
          "output_type": "execute_result",
          "data": {
            "text/plain": [
              "0.49995981912115284"
            ]
          },
          "metadata": {},
          "execution_count": 114
        }
      ],
      "source": [
        "\n",
        "def cumnorm(lo, up, step):\n",
        "    total_area=0\n",
        "    x1=lo\n",
        "    while x1 < up:\n",
        "         y_lower=norm.pdf(x1)\n",
        "         x1 = x1 + step\n",
        "         if x1 < up:\n",
        "           y_higher = norm.pdf(x1)\n",
        "           area_rectangle = y_lower*step\n",
        "           area_triangle = (y_higher - y_lower)*0.5*step\n",
        "           area_trapezium = area_rectangle + area_triangle\n",
        "           total_area = total_area + area_trapezium\n",
        "    return total_area\n",
        "\n",
        "cumnorm(-5,0, 0.0001)"
      ]
    },
    {
      "cell_type": "code",
      "execution_count": null,
      "metadata": {
        "colab": {
          "base_uri": "https://localhost:8080/"
        },
        "id": "IvFVlr3jvNKu",
        "outputId": "80eb1156-c73b-4737-94e0-f3b262816012"
      },
      "outputs": [
        {
          "output_type": "execute_result",
          "data": {
            "text/plain": [
              "0.3989422804014327"
            ]
          },
          "metadata": {},
          "execution_count": 22
        }
      ],
      "source": [
        "\n",
        "\n",
        "from scipy.stats import norm\n",
        "def g(x):\n",
        "    return norm.pdf(x)\n",
        "g(0)\n",
        "\n",
        "\n",
        "norm.pdf(0)\n",
        "\n",
        "\n"
      ]
    },
    {
      "cell_type": "code",
      "execution_count": null,
      "metadata": {
        "colab": {
          "base_uri": "https://localhost:8080/",
          "height": 447
        },
        "id": "ssaMZL95pDYW",
        "outputId": "abe40ce1-d45c-4cc2-fbd7-b7db1a496f2f"
      },
      "outputs": [
        {
          "output_type": "execute_result",
          "data": {
            "text/plain": [
              "<matplotlib.collections.FillBetweenPolyCollection at 0x78f9402d3b90>"
            ]
          },
          "metadata": {},
          "execution_count": 116
        },
        {
          "output_type": "display_data",
          "data": {
            "text/plain": [
              "<Figure size 640x480 with 1 Axes>"
            ],
            "image/png": "[encoded data removed]"
          },
          "metadata": {}
        }
      ],
      "source": [
        "\n",
        "t = np.arange(-5, 5,1/40.)\n",
        "plt.plot(t,g(t))\n",
        "selection = np.arange(-1.96, 1.96, 1/400.)\n",
        "plt.fill_between(selection,g(selection))\n"
      ]
    },
    {
      "cell_type": "code",
      "execution_count": null,
      "metadata": {
        "colab": {
          "base_uri": "https://localhost:8080/",
          "height": 447
        },
        "id": "ML64iyh2JeAv",
        "outputId": "d8721d20-9661-4026-e7e7-1a64e1cc4899"
      },
      "outputs": [
        {
          "output_type": "execute_result",
          "data": {
            "text/plain": [
              "<matplotlib.collections.FillBetweenPolyCollection at 0x78f940303a90>"
            ]
          },
          "metadata": {},
          "execution_count": 117
        },
        {
          "output_type": "display_data",
          "data": {
            "text/plain": [
              "<Figure size 640x480 with 1 Axes>"
            ],
            "image/png": "[encoded data removed]"
          },
          "metadata": {}
        }
      ],
      "source": [
        "\n",
        "t = np.arange(-5,5,1/40.)\n",
        "plt.plot(t,g(t))\n",
        "section = np.arange(-5, 1.645, 1/40.)\n",
        "plt.fill_between(section,g(section))"
      ]
    },
    {
      "cell_type": "code",
      "execution_count": null,
      "metadata": {
        "colab": {
          "base_uri": "https://localhost:8080/"
        },
        "id": "qBYac32alcE6",
        "outputId": "26545514-e1cf-42c7-e4c5-c79b04f531bd"
      },
      "outputs": [
        {
          "output_type": "stream",
          "name": "stdout",
          "text": [
            "1 2 2 3 6 2 4 1 6 1 "
          ]
        }
      ],
      "source": [
        "import random\n",
        "\n",
        "random.randrange(1, 7)\n",
        "\n",
        "for roll in range(100):\n",
        "    print(random.randrange(1, 7), end=' ')\n",
        "\n",
        "for roll in range(10):\n",
        "    print(random.randrange(1, 7))\n",
        "\n",
        "# Seeding the Random-Number Generator for Reproducibility\n",
        "\n",
        "random.seed(32)\n",
        "\n",
        "for roll in range(10):\n",
        "    print(random.randrange(1, 7), end=' ')\n",
        "\n",
        "\n",
        "\n",
        "\n"
      ]
    },
    {
      "cell_type": "code",
      "execution_count": null,
      "metadata": {
        "colab": {
          "base_uri": "https://localhost:8080/"
        },
        "id": "l_Vol8YZxSqD",
        "outputId": "a87d6cf1-f913-4ea5-a28d-a463b0ef1ae2"
      },
      "outputs": [
        {
          "output_type": "stream",
          "name": "stdout",
          "text": [
            "1 5 4 4 3 5 5 4 4 6 "
          ]
        }
      ],
      "source": [
        "random.seed(3212332)\n",
        "for roll in range(10):\n",
        "    print(random.randrange(1, 7), end=' ')"
      ]
    },
    {
      "cell_type": "code",
      "execution_count": null,
      "metadata": {
        "colab": {
          "base_uri": "https://localhost:8080/"
        },
        "id": "RDC76xx0NcuP",
        "outputId": "44820d02-12d1-4373-c5a0-9f334899bd98"
      },
      "outputs": [
        {
          "output_type": "stream",
          "name": "stdout",
          "text": [
            "1 5 7 4 4 7 3 7 7 7 5 "
          ]
        }
      ],
      "source": [
        "random.seed(3212332)\n",
        "for roll in range(10):\n",
        "    print(random.randrange(1, 7), end=' ')"
      ]
    },
    {
      "cell_type": "code",
      "execution_count": null,
      "metadata": {
        "colab": {
          "base_uri": "https://localhost:8080/"
        },
        "id": "B0-3J4xrvQo_",
        "outputId": "699ea070-aa49-49a6-8ba7-9c038a3f9fb4"
      },
      "outputs": [
        {
          "output_type": "stream",
          "name": "stdout",
          "text": [
            "77\n",
            "68\n",
            "86\n",
            "73\n",
            "\n",
            "96\n",
            "87\n",
            "89\n",
            "81\n",
            "\n",
            "70\n",
            "90\n",
            "86\n",
            "81\n",
            "\n"
          ]
        }
      ],
      "source": [
        "# Creating a Two-Dimensional List\n",
        "a = [[77, 68, 86, 73], [96, 87, 89, 81], [70, 90, 86, 81]]\n",
        "a\n",
        "\n",
        "for row in a:\n",
        "    print(row, end=' ')\n",
        "\n",
        "\n",
        "for row in a:\n",
        "    print(row)\n",
        "\n",
        "\n",
        "for row in a:\n",
        "    for item in row:\n",
        "        print(item, end=' ')\n",
        "    print()\n",
        "\n",
        "\n",
        "\n"
      ]
    },
    {
      "cell_type": "code",
      "execution_count": null,
      "metadata": {
        "colab": {
          "base_uri": "https://localhost:8080/"
        },
        "id": "CF6l4_WVPZZv",
        "outputId": "ead31474-13c1-4acc-fe96-3edd05994b35"
      },
      "outputs": [
        {
          "output_type": "stream",
          "name": "stdout",
          "text": [
            "a[0][0]=77  a[0][1]=68  a[0][2]=86  a[0][3]=73  \n",
            "a[1][0]=96  a[1][1]=87  a[1][2]=89  a[1][3]=81  \n",
            "a[2][0]=70  a[2][1]=90  a[2][2]=86  a[2][3]=81  \n"
          ]
        }
      ],
      "source": [
        "\n",
        "# nested\n",
        "for i, row in enumerate(a):\n",
        "    for j, item in enumerate(row):\n",
        "        print(f'a[{i}][{j}]={item} ', end=' ')\n",
        "    print()"
      ]
    },
    {
      "cell_type": "code",
      "execution_count": null,
      "metadata": {
        "colab": {
          "base_uri": "https://localhost:8080/"
        },
        "id": "TzsvLfxrPc5O",
        "outputId": "94fcdf6a-b08d-46bc-87ab-2e137ac6946f"
      },
      "outputs": [
        {
          "output_type": "stream",
          "name": "stdout",
          "text": [
            "a[00]=81  a[01]=81  a[02]=81  a[03]=81  \n",
            "a[10]=81  a[11]=81  a[12]=81  a[13]=81  \n",
            "a[20]=81  a[21]=81  a[22]=81  a[23]=81  \n"
          ]
        }
      ],
      "source": [
        "for i, row in enumerate(a):\n",
        "    for j, item in enumerate(row):\n",
        "        print(f'a[{i}{j}]={item} ', end=' ')\n",
        "    print()\n",
        "\n",
        "list(enumerate(a))\n",
        "list(enumerate([3,7,8,6,5,4]))\n",
        "\n"
      ]
    },
    {
      "cell_type": "code",
      "execution_count": null,
      "metadata": {
        "colab": {
          "base_uri": "https://localhost:8080/",
          "height": 139
        },
        "id": "-p0khs81BjML",
        "outputId": "761419b6-6863-4e1e-9cbc-fb388926c640"
      },
      "outputs": [
        {
          "output_type": "error",
          "ename": "TypeError",
          "evalue": "bar() missing 1 required positional argument: 'height'",
          "traceback": [
            "\u001b[0;31m---------------------------------------------------------------------------\u001b[0m",
            "\u001b[0;31mTypeError\u001b[0m                                 Traceback (most recent call last)",
            "\u001b[0;32m<ipython-input-57-5b846569ad5e>\u001b[0m in \u001b[0;36m<cell line: 0>\u001b[0;34m()\u001b[0m\n\u001b[0;32m----> 1\u001b[0;31m \u001b[0mplt\u001b[0m\u001b[0;34m.\u001b[0m\u001b[0mbar\u001b[0m\u001b[0;34m(\u001b[0m\u001b[0mrolls\u001b[0m\u001b[0;34m)\u001b[0m\u001b[0;34m\u001b[0m\u001b[0;34m\u001b[0m\u001b[0m\n\u001b[0m",
            "\u001b[0;31mTypeError\u001b[0m: bar() missing 1 required positional argument: 'height'"
          ]
        }
      ],
      "source": [
        "#Sample Graphs for 600, 60,000 and 6,000,000 Die Rolls\n",
        "# Visualizing Die-Roll Frequencies and Percentages\n",
        "\n",
        "import matplotlib.pyplot as plt\n",
        "import numpy as np\n",
        "import random\n",
        "import seaborn as sns\n",
        "\n",
        "# Rolling the Die and Calculating Die Frequencies\n",
        "\n",
        "random.randrange(1, 7)\n",
        "rolls = [random.randrange(1, 7) for i in range(60)]\n",
        "rolls\n",
        "plt.hist(rolls)\n"
      ]
    },
    {
      "cell_type": "markdown",
      "metadata": {
        "id": "NhMwUKIeWDDF"
      },
      "source": [
        "**Try to wite the above code differenly**"
      ]
    },
    {
      "cell_type": "code",
      "execution_count": null,
      "metadata": {
        "colab": {
          "base_uri": "https://localhost:8080/"
        },
        "id": "X6QVE0AfWB86",
        "outputId": "cda20db9-aa18-4d00-83fc-ce08519b57b2"
      },
      "outputs": [
        {
          "output_type": "execute_result",
          "data": {
            "text/plain": [
              "[6,\n",
              " 5,\n",
              " 5,\n",
              " 5,\n",
              " 1,\n",
              " 3,\n",
              " 2,\n",
              " 2,\n",
              " 4,\n",
              " 2,\n",
              " 5,\n",
              " 3,\n",
              " 6,\n",
              " 1,\n",
              " 6,\n",
              " 6,\n",
              " 1,\n",
              " 2,\n",
              " 2,\n",
              " 2,\n",
              " 5,\n",
              " 2,\n",
              " 1,\n",
              " 4,\n",
              " 3,\n",
              " 3,\n",
              " 2,\n",
              " 5,\n",
              " 2,\n",
              " 3,\n",
              " 1,\n",
              " 5,\n",
              " 5,\n",
              " 4,\n",
              " 2,\n",
              " 5,\n",
              " 5,\n",
              " 2,\n",
              " 2,\n",
              " 1,\n",
              " 1,\n",
              " 1,\n",
              " 5,\n",
              " 4,\n",
              " 3,\n",
              " 1,\n",
              " 5,\n",
              " 5,\n",
              " 2,\n",
              " 3,\n",
              " 3,\n",
              " 5,\n",
              " 3,\n",
              " 3,\n",
              " 1,\n",
              " 6,\n",
              " 3,\n",
              " 3,\n",
              " 5,\n",
              " 1]"
            ]
          },
          "metadata": {},
          "execution_count": 62
        }
      ],
      "source": [
        "\n",
        "#rolls1=[0]*60\n",
        "rolls1=[[]]*60\n",
        "for i in range(60):\n",
        "    rolls1[i]=random.randrange(1,7)\n",
        "rolls1\n",
        "\n"
      ]
    },
    {
      "cell_type": "markdown",
      "metadata": {
        "id": "PnCXqIBsW3u8"
      },
      "source": [
        "**Try to show that the outcome of two rolling dices are independent**"
      ]
    },
    {
      "cell_type": "code",
      "execution_count": null,
      "metadata": {
        "colab": {
          "base_uri": "https://localhost:8080/",
          "height": 447
        },
        "id": "fWadB2fnwo_G",
        "outputId": "d0a2780d-8c6c-4200-fb9d-0010478fd544"
      },
      "outputs": [
        {
          "output_type": "execute_result",
          "data": {
            "text/plain": [
              "<matplotlib.collections.PathCollection at 0x78f941191ad0>"
            ]
          },
          "metadata": {},
          "execution_count": 63
        },
        {
          "output_type": "display_data",
          "data": {
            "text/plain": [
              "<Figure size 640x480 with 1 Axes>"
            ],
            "image/png": "[encoded data removed]"
          },
          "metadata": {}
        }
      ],
      "source": [
        "\n",
        "\n",
        "\n",
        "random.randrange(1, 7)\n",
        "rolls1 = [random.randrange(1, 7) for i in range(600)]\n",
        "rolls\n",
        "rolls2 = [random.randrange(1, 7) for i in range(600)]\n",
        "rolls2\n",
        "\n",
        "plt.scatter(rolls1, rolls2)"
      ]
    },
    {
      "cell_type": "markdown",
      "metadata": {
        "id": "AIit4q5SXgC6"
      },
      "source": [
        "Show that the outcome of a first rolling dice and some of them to rolling dices are **dependent**"
      ]
    },
    {
      "cell_type": "code",
      "execution_count": null,
      "metadata": {
        "colab": {
          "base_uri": "https://localhost:8080/",
          "height": 447
        },
        "id": "RD0bbnTsXKyz",
        "outputId": "0dec1638-4a1f-4c2a-9256-6eddc8b275ee"
      },
      "outputs": [
        {
          "output_type": "execute_result",
          "data": {
            "text/plain": [
              "<matplotlib.collections.PathCollection at 0x78f940e16f10>"
            ]
          },
          "metadata": {},
          "execution_count": 70
        },
        {
          "output_type": "display_data",
          "data": {
            "text/plain": [
              "<Figure size 640x480 with 1 Axes>"
            ],
            "image/png": "[encoded data removed]"
          },
          "metadata": {}
        }
      ],
      "source": [
        "\n",
        "sum=rolls1+rolls2\n",
        "sum\n",
        "len(sum)\n",
        "plt.scatter(sum, rolls1) ## wrong why?\n",
        "\n",
        "\n",
        "import pandas as pd\n",
        "rolls1=pd.array(rolls1)\n",
        "rolls2=pd.array(rolls2)\n",
        "sum_of_dices=rolls1+rolls2\n",
        "plt.scatter(sum_of_dices, rolls1)\n",
        "\n"
      ]
    },
    {
      "cell_type": "code",
      "execution_count": null,
      "metadata": {
        "id": "0rZ_lws2XbSc"
      },
      "outputs": [],
      "source": []
    },
    {
      "cell_type": "markdown",
      "metadata": {
        "id": "hWt9e7r0XMgt"
      },
      "source": [
        "Write a function to show the above result **with more numbers:**\n",
        "\n",
        "your function has to has **two outputs**"
      ]
    },
    {
      "cell_type": "code",
      "execution_count": null,
      "metadata": {
        "colab": {
          "base_uri": "https://localhost:8080/"
        },
        "id": "InBMa25pVQ2s",
        "outputId": "074821e9-0ec2-4788-f8df-d120311c4a85"
      },
      "outputs": [
        {
          "data": {
            "text/plain": [
              "(43, 120)"
            ]
          },
          "execution_count": 123,
          "metadata": {},
          "output_type": "execute_result"
        }
      ],
      "source": []
    },
    {
      "cell_type": "code",
      "execution_count": null,
      "metadata": {
        "colab": {
          "base_uri": "https://localhost:8080/",
          "height": 447
        },
        "id": "gLf2OT3FXHkt",
        "outputId": "346a8fcb-e49a-4350-a3bf-8d019b81ec27"
      },
      "outputs": [
        {
          "output_type": "execute_result",
          "data": {
            "text/plain": [
              "<matplotlib.collections.PathCollection at 0x78f940c4f1d0>"
            ]
          },
          "metadata": {},
          "execution_count": 71
        },
        {
          "output_type": "display_data",
          "data": {
            "text/plain": [
              "<Figure size 640x480 with 1 Axes>"
            ],
            "image/png": "[encoded data removed]"
          },
          "metadata": {}
        }
      ],
      "source": [
        "\n",
        "\n",
        "\n",
        "\n",
        "def choosnumber(n, k):\n",
        "  sel1 = [random.randrange(1, n) for i in range(k)]\n",
        "  sel2 = [random.randrange(1, n) for i in range(k)]\n",
        "  sel1=pd.array(sel1)\n",
        "  sel2=pd.array(sel2)\n",
        "  sum_of_selects=sel1+sel2\n",
        "  return (sel1, sum_of_selects)\n",
        "\n",
        "newdata=choosnumber(700, 6000)\n",
        "plt.scatter(newdata[0], newdata[1])"
      ]
    },
    {
      "cell_type": "code",
      "execution_count": null,
      "metadata": {
        "colab": {
          "base_uri": "https://localhost:8080/",
          "height": 447
        },
        "id": "9SNJ9ndppa6x",
        "outputId": "4c7d3c6e-9e51-4ab3-8198-e9f0d8e5301c"
      },
      "outputs": [
        {
          "data": {
            "text/plain": [
              "<matplotlib.collections.PathCollection at 0x7d95511cf3d0>"
            ]
          },
          "execution_count": 113,
          "metadata": {},
          "output_type": "execute_result"
        },
        {
          "data": {
            "image/png": "[encoded data removed]",
            "text/plain": [
              "<Figure size 640x480 with 1 Axes>"
            ]
          },
          "metadata": {},
          "output_type": "display_data"
        }
      ],
      "source": [
        "newdata=choosnumber(700, 6000)\n",
        "plt.scatter(newdata[1], newdata[0])"
      ]
    },
    {
      "cell_type": "code",
      "execution_count": null,
      "metadata": {
        "colab": {
          "base_uri": "https://localhost:8080/",
          "height": 35
        },
        "id": "Q7SHVC39cumZ",
        "outputId": "0225f899-cbd1-4639-dc69-ed1b1c9fda1b"
      },
      "outputs": [
        {
          "output_type": "execute_result",
          "data": {
            "text/plain": [
              "'Rolling a Six-Sided Die 60,000 Times'"
            ],
            "application/vnd.google.colaboratory.intrinsic+json": {
              "type": "string"
            }
          },
          "metadata": {},
          "execution_count": 78
        }
      ],
      "source": [
        "values, frequencies = np.unique(rolls, return_counts=True)\n",
        "\n",
        "# Creating the Initial Bar Plot\n",
        "title = f'Rolling a Six-Sided Die {len(rolls):,} Times'\n",
        "\n",
        "sns.set_style('whitegrid')\n",
        "\n",
        "axes = sns.barplot(x=values, y=frequencies, palette='bright')\n",
        "\n",
        "# Setting the Window Title and Labeling the x- and y-Axes\n",
        "axes.set_title(title)\n",
        "\n",
        "axes.set(xlabel='Die Value', ylabel='Frequency')\n",
        "\n",
        "# Finalizing the Bar Plot\n",
        "axes.set_ylim(top=max(frequencies) * 1.10)\n",
        "\n",
        "for bar, frequency in zip(axes.patches, frequencies):\n",
        "    text_x = bar.get_x() + bar.get_width() / 2.0\n",
        "    text_y = bar.get_height()\n",
        "    text = f'{frequency:,}\\n{frequency / len(rolls):.3%}'\n",
        "    axes.text(text_x, text_y, text,\n",
        "              fontsize=11, ha='center', va='bottom')\n",
        "\n",
        "# Rolling Again and Updating the Bar Plot—Introducing IPython Magics\n",
        "plt.cla()\n",
        "\n",
        "%recall 5\n",
        "\n",
        "rolls = [random.randrange(1, 7) for i in range(600)]\n",
        "\n",
        "rolls = [random.randrange(1, 7) for i in range(60000)]\n",
        "\n",
        "%recall 6-13\n",
        "\n",
        "values, frequencies = np.unique(rolls, return_counts=True)\n",
        "title = f'Rolling a Six-Sided Die {len(rolls):,} Times'\n",
        "sns.set_style('whitegrid')\n",
        "axes = sns.barplot(x=values, y=frequencies, palette='bright')\n",
        "axes.set_title(title)\n",
        "axes.set(xlabel='Die Value', ylabel='Frequency')\n",
        "axes.set_ylim(top=max(frequencies) * 1.10)\n",
        "for bar, frequency in zip(axes.patches, frequencies):\n",
        "    text_x = bar.get_x() + bar.get_width() / 2.0\n",
        "    text_y = bar.get_height()\n",
        "    text = f'{frequency:,}\\n{frequency / len(rolls):.3%}'\n",
        "    axes.text(text_x, text_y, text,\n",
        "              fontsize=11, ha='center', va='bottom')\n",
        "\n",
        "\n",
        "# Saving Snippets to a File with the %save Magic\n",
        "\n",
        "\n",
        "\n",
        "#%save RollDie.py 1-13\n",
        "\n",
        "plt.show()\n",
        "\n"
      ]
    },
    {
      "cell_type": "code",
      "source": [
        "area = np.arange(0, 5, 1/20.)\n",
        "dist = np.arange(0, 5, 1/20.)\n",
        "plt.fill_between(dist,f(dist))\n",
        "dist = np.arange(0, 2, 1/20.)\n",
        "t = np.arange(-4,4,1/40.)\n",
        "plt.plot(t,f(t))\n",
        "dist = np.arange(0, 2, 1/20.)\n",
        "plt.fill_between(dist,f(dist))\n",
        "plt.fill_between(dist,f(dist), color='red')\n",
        "t = np.arange(-4,4,1/40.)\n",
        "plt.plot(t,f(t))\n",
        "dist = np.arange(0, 2, 1/20.)\n",
        "plt.fill_between(dist,f(dist), color='red')\n",
        "plt.plot(t,f(t))\n",
        "dist = np.arange(0, 2, 1/20.)\n",
        "plt.fill_between(dist,f(dist), color='red')\n",
        "t = np.arange(-4,4,1/40.)\n",
        "plt.plot(t,f(t))\n",
        "dist = np.arange(0, 2, 1/20.)\n",
        "plt.fill_between(dist,f(dist), color='red')"
      ],
      "metadata": {
        "colab": {
          "base_uri": "https://localhost:8080/",
          "height": 447
        },
        "id": "azYXbLYB7wSG",
        "outputId": "8353f102-3dfc-4255-e0f2-b0e49ea95642"
      },
      "execution_count": null,
      "outputs": [
        {
          "output_type": "execute_result",
          "data": {
            "text/plain": [
              "<matplotlib.collections.FillBetweenPolyCollection at 0x78f940978650>"
            ]
          },
          "metadata": {},
          "execution_count": 89
        },
        {
          "output_type": "display_data",
          "data": {
            "text/plain": [
              "<Figure size 640x480 with 1 Axes>"
            ],
            "image/png": "[encoded data removed]"
          },
          "metadata": {}
        }
      ]
    }
  ],
  "metadata": {
    "colab": {
      "cell_execution_strategy": "setup",
      "provenance": [],
      "include_colab_link": true
    },
    "kernelspec": {
      "display_name": "Python 3",
      "name": "python3"
    },
    "language_info": {
      "name": "python"
    }
  },
  "nbformat": 4,
  "nbformat_minor": 0
}