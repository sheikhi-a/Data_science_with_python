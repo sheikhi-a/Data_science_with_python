{
  "cells": [
    {
      "cell_type": "markdown",
      "metadata": {
        "id": "view-in-github",
        "colab_type": "text"
      },
      "source": [
        "<a href=\"https://colab.research.google.com/github/sheikhi-a/General_data_science_with_python/blob/main/Data_science_read_data.ipynb\" target=\"_parent\"><img src=\"https://colab.research.google.com/assets/colab-badge.svg\" alt=\"Open In Colab\"/></a>"
      ]
    },
    {
      "cell_type": "markdown",
      "metadata": {
        "id": "ngzvvF_oYPfF"
      },
      "source": [
        "**Reading and  exloring data**\n",
        "\n",
        "By Ayyub Sheikhi, SBUK\n",
        "\n",
        "\n",
        " In the session on first try to read and explore some data including\n",
        "\n",
        "\n",
        "1.   Enter data set\n",
        "2.   Read data set\n",
        "\n",
        "\n",
        "\n"
      ]
    },
    {
      "cell_type": "markdown",
      "source": [
        "# 1-Enter the data set manually"
      ],
      "metadata": {
        "id": "W_Zk0eVvyh5n"
      }
    },
    {
      "cell_type": "markdown",
      "metadata": {
        "id": "-ZA0TpKssBpI"
      },
      "source": []
    },
    {
      "cell_type": "code",
      "execution_count": null,
      "metadata": {
        "id": "jkNqM7-6FB1k"
      },
      "outputs": [],
      "source": [
        "scores=[[12,13,14, 13.8], [18, 17,19,17], [10,11,12,13]]\n",
        "print(scores)"
      ]
    },
    {
      "cell_type": "code",
      "source": [
        "import pandas as pd\n",
        "df=pd.DataFrame(scores)\n",
        "df.head(2)\n",
        "df.tail(2)"
      ],
      "metadata": {
        "id": "u8FrWohsyhhn"
      },
      "execution_count": null,
      "outputs": []
    },
    {
      "cell_type": "code",
      "source": [],
      "metadata": {
        "id": "rYkM6Ma4xzAm"
      },
      "execution_count": null,
      "outputs": []
    },
    {
      "cell_type": "code",
      "source": [
        "import pandas as pd\n",
        "data=pd.DataFrame(scores)\n",
        "print(data)"
      ],
      "metadata": {
        "id": "D7ezIzoAFbAb"
      },
      "execution_count": null,
      "outputs": []
    },
    {
      "cell_type": "code",
      "source": [
        "course=('math', 'stat', 'physics', 'science')\n",
        "students=('ali', 'hasan', 'maryam')\n"
      ],
      "metadata": {
        "id": "Yj0ijrYvF2k4"
      },
      "execution_count": null,
      "outputs": []
    },
    {
      "cell_type": "code",
      "source": [
        "df.head()\n",
        "df.columns\n",
        "df.shape\n",
        "df.describe()\n",
        "df.dtypes\n"
      ],
      "metadata": {
        "id": "pVreOj_5upu_"
      },
      "execution_count": null,
      "outputs": []
    },
    {
      "cell_type": "code",
      "source": [],
      "metadata": {
        "id": "AUll5GyA1Qis"
      },
      "execution_count": null,
      "outputs": []
    },
    {
      "cell_type": "code",
      "source": [
        " df1=pd.DataFrame(data=scores, index=students, columns=course)\n",
        " df1\n",
        "\n",
        "\n",
        "\n",
        "\n",
        " df1.shape\n",
        " df1.dtypes\n",
        " df1['gender']=['m', 'm', 'f']\n",
        " df1.dtypes\n",
        "\n",
        "\n",
        " #wrong : df=pd.DataFrame(data=data, index=students, columns=course)"
      ],
      "metadata": {
        "id": "K1wXwQtoG6Xv"
      },
      "execution_count": null,
      "outputs": []
    },
    {
      "cell_type": "code",
      "source": [
        "df['sex']=['m', 'm', 'f' ]"
      ],
      "metadata": {
        "id": "okKYyOBAwnGZ"
      },
      "execution_count": null,
      "outputs": []
    },
    {
      "cell_type": "code",
      "source": [
        "df_dropped=df.drop(columns=['science','sex'])"
      ],
      "metadata": {
        "id": "JraYq5xL2PcC"
      },
      "execution_count": null,
      "outputs": []
    },
    {
      "cell_type": "markdown",
      "metadata": {
        "id": "bkhTIFnvZMLB"
      },
      "source": [
        "## 2- read from contents of colab\n",
        "\n",
        "First upload the data in the content\n"
      ]
    },
    {
      "cell_type": "code",
      "source": [
        "import pandas as pd\n",
        "data=pd.read_csv('data_s1.csv')\n",
        "data\n",
        "data.shape\n",
        "\n",
        "\n",
        "\n",
        "\n",
        "\n",
        "\n",
        "\n",
        "\n"
      ],
      "metadata": {
        "id": "I0uDd7Hh9xYE"
      },
      "execution_count": null,
      "outputs": []
    },
    {
      "cell_type": "code",
      "execution_count": null,
      "metadata": {
        "id": "1wfrNgp411hc"
      },
      "outputs": [],
      "source": [
        "# Data reading # header=None\n",
        "\n",
        "import pandas as pd\n",
        "df = pd.read_csv(\"data_s.csv\")\n",
        "df.shape\n",
        "df.columns\n",
        "df.head()"
      ]
    },
    {
      "cell_type": "code",
      "source": [
        "# Data reading # header=None\n",
        "\n",
        "import pandas as pd\n",
        "df2 = pd.read_csv(\"data_bmi.csv\")\n",
        "df2\n",
        "df2.shape\n",
        "df2.columns\n",
        "df2.head(3)\n",
        "df2.dtypes\n",
        "df2.describe()\n",
        "df2.BMI.describe()\n",
        "\n"
      ],
      "metadata": {
        "id": "x8GlZXVwauZH"
      },
      "execution_count": null,
      "outputs": []
    },
    {
      "cell_type": "markdown",
      "source": [
        "# Reading From the web"
      ],
      "metadata": {
        "id": "o8fPZ4n49IKP"
      }
    },
    {
      "cell_type": "code",
      "source": [
        "url0=\"https://raw.githubusercontent.com/amrrs/Basic-RShiny-Dashboard-Example/refs/heads/master/recommendation.csv\"\n",
        "data_bank=pd.read_csv(url0)\n",
        "data_bank.shape\n",
        "url1=\"https://github.com/amrrs/Basic-RShiny-Dashboard-Example/blob/master/recommendation.csv?raw=true\"\n",
        "data_bank1=pd.read_csv(url1)\n",
        "data_bank1.shape\n",
        "\n",
        "\n",
        "data_bank1.head(5)\n",
        "data_bank1.describe()\n"
      ],
      "metadata": {
        "id": "AbPrXVq-6ULf"
      },
      "execution_count": null,
      "outputs": []
    },
    {
      "cell_type": "code",
      "source": [
        "\n",
        "\n",
        "\n"
      ],
      "metadata": {
        "id": "AfIutAmdKO6f"
      },
      "execution_count": null,
      "outputs": []
    },
    {
      "cell_type": "markdown",
      "metadata": {
        "id": "8cDrBRxz27Y4"
      },
      "source": [
        "#### The second approach: get the data directly"
      ]
    },
    {
      "cell_type": "code",
      "execution_count": null,
      "metadata": {
        "id": "O2lO7Owe_mHJ"
      },
      "outputs": [],
      "source": [
        "#getting the data\n",
        "\n",
        "\n",
        "!wget https://raw.githubusercontent.com/CConstance/tweets_sentiment/master/test.csv"
      ]
    },
    {
      "cell_type": "code",
      "execution_count": null,
      "metadata": {
        "id": "U_5hKmbC_oZm"
      },
      "outputs": [],
      "source": [
        "# Data Exploration\n",
        "import pandas as pd\n",
        "import seaborn as sns\n",
        "df = pd.read_csv(\"test.csv\")\n",
        "df.shape\n",
        "df.head(3)\n",
        "df.tail(3)"
      ]
    },
    {
      "cell_type": "markdown",
      "metadata": {
        "id": "uPXEczLeZe9b"
      },
      "source": [
        "\n",
        "*check the decoration*"
      ]
    },
    {
      "cell_type": "code",
      "execution_count": null,
      "metadata": {
        "id": "mm9rBMwQZXAz"
      },
      "outputs": [],
      "source": [
        "\n",
        "\n",
        "df.shape\n",
        "df.columns\n",
        "df.head()\n",
        "df.dtypes\n",
        "df.describe()\n",
        "\n",
        "# descriptive statistics summary\n",
        "df['time'].describe()\n",
        "df.time.describe()\n",
        "df.iloc[:,2].describe()\n",
        "df.iloc[:5,2].describe()\n",
        "\n",
        "\n"
      ]
    },
    {
      "cell_type": "markdown",
      "metadata": {
        "id": "Wh4LhPvlZxwf"
      },
      "source": [
        "*Apply a function*"
      ]
    },
    {
      "cell_type": "code",
      "execution_count": null,
      "metadata": {
        "id": "JZ6IAi6LZulH"
      },
      "outputs": [],
      "source": [
        "\n",
        "df_trim2 = df[df[\"likes_count\"] <2000]\n",
        "plt.scatter(df_trim2.likes_count, df_trim2.retweets_count)\n",
        "\n",
        "from scipy import stats\n",
        " stats.trim_mean(df.likes_count, 0.1) # Trim 10% at both ends\n",
        "\n"
      ]
    },
    {
      "cell_type": "markdown",
      "metadata": {
        "id": "2_MK-Vm6y8W8"
      },
      "source": [
        "#Right trimmed mean\n",
        " Suppose we would like to erase only the upper outliers"
      ]
    },
    {
      "cell_type": "code",
      "execution_count": null,
      "metadata": {
        "id": "u7SUJf-Cy6r5"
      },
      "outputs": [],
      "source": [
        "\n",
        "\n",
        "from numpy import mean\n",
        "def trimmean(arr, percent):\n",
        "    n = len(arr)\n",
        "    s=sorted(arr)\n",
        "    #k = int(round(n*(float(percent))))\n",
        "    k1=round(n*percent)\n",
        "    return mean(s[k1:n])\n",
        "\n",
        "  trimmean(df.retweets_count, .10)\n"
      ]
    },
    {
      "cell_type": "markdown",
      "metadata": {
        "id": "jMGF3uvPy4Mp"
      },
      "source": []
    }
  ],
  "metadata": {
    "colab": {
      "provenance": [],
      "authorship_tag": "ABX9TyO3VC247doSViJZrW+Kv7am",
      "include_colab_link": true
    },
    "kernelspec": {
      "display_name": "Python 3",
      "name": "python3"
    },
    "language_info": {
      "name": "python"
    }
  },
  "nbformat": 4,
  "nbformat_minor": 0
}