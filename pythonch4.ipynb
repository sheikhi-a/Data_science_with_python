{
  "cells": [
    {
      "cell_type": "markdown",
      "metadata": {
        "id": "view-in-github",
        "colab_type": "text"
      },
      "source": [
        "<a href=\"https://colab.research.google.com/github/sheikhi-a/Data_science_with_python/blob/main/pythonch4.ipynb\" target=\"_parent\"><img src=\"https://colab.research.google.com/assets/colab-badge.svg\" alt=\"Open In Colab\"/></a>"
      ]
    },
    {
      "cell_type": "code",
      "execution_count": 1,
      "metadata": {
        "id": "VEMtp-T_iN9G",
        "colab": {
          "base_uri": "https://localhost:8080/"
        },
        "outputId": "8660f1e1-57f4-4549-abac-6f7dd45fb34b"
      },
      "outputs": [
        {
          "output_type": "execute_result",
          "data": {
            "text/plain": [
              "['w', 'm', 's', 'P', 'y', 't', 'h', 'o', 'n', ' ', 'c', 'o', 'd', 'e', 's']"
            ]
          },
          "metadata": {},
          "execution_count": 1
        }
      ],
      "source": [
        "x=[7,6,5,8,14,10,15]\n",
        "\n",
        "x[:4]\n",
        "x[3:5]\n",
        "\n",
        "x[3:]\n",
        "x[:]\n",
        "x[::3] #slicing with step\n",
        "\n",
        "list1=[]\n",
        "for i in x:\n",
        "  list1 +=[i]\n",
        "\n",
        "list1\n",
        "\n",
        "letters = []\n",
        "y=['w','m','s']\n",
        "for i in y:\n",
        "  letters +=[i]\n",
        "\n",
        "letters\n",
        "\n",
        "letters += 'Python codes'\n",
        "letters\n",
        "\n",
        "\n"
      ]
    },
    {
      "cell_type": "code",
      "execution_count": null,
      "metadata": {
        "id": "gf9GP0pQ2KA_"
      },
      "outputs": [],
      "source": [
        "y=[1,2,3,10]\n",
        "z=[1,2,3,13]\n",
        "y==z\n",
        "\n",
        "y>z\n",
        "z>=y\n",
        "z[3]=[]\n",
        "z\n",
        "del z[2]\n",
        "z\n",
        "del y[::2]\n",
        "y\n",
        "del y[:]"
      ]
    },
    {
      "cell_type": "code",
      "execution_count": null,
      "metadata": {
        "id": "zm4E5SisxVRJ"
      },
      "outputs": [],
      "source": [
        "numbers = [10, 3, 7, 1, 9, 4, 2, 8, 5, 6]\n",
        "\n",
        "numbers.sort()\n",
        "numbers\n",
        "\n",
        "numbers.sort(reverse=True)\n",
        "numbers\n",
        "numbers.sort(reverse=False)\n",
        "\n",
        "numbers\n"
      ]
    },
    {
      "cell_type": "code",
      "execution_count": null,
      "metadata": {
        "id": "NKJN4Oga6nIp"
      },
      "outputs": [],
      "source": []
    },
    {
      "cell_type": "code",
      "execution_count": null,
      "metadata": {
        "id": "uGacc6OVuC-A"
      },
      "outputs": [],
      "source": [
        "# Built-In Function sorted\n",
        "numbers = [10, 3, 7, 1, 9, 4, 2, 8, 5, 6]\n",
        "sorted(numbers)\n",
        "numbers\n",
        "\n",
        "numbers\n",
        "\n",
        "letters = 'chgczhgxc,xh'\n",
        "\n",
        "ascending_letters = sorted(letters)\n",
        "descending_letters = sorted(letters, reverse=True)\n",
        "\n",
        "\n",
        "colors = ('red', 'orange', 'yellow', 'green', 'blue')\n",
        "\n",
        "ascending_colors = sorted(colors)\n",
        "\n",
        "ascending_colors\n"
      ]
    },
    {
      "cell_type": "markdown",
      "metadata": {
        "id": "JGfBcpIgMqDm"
      },
      "source": [
        "## Functions in python"
      ]
    },
    {
      "cell_type": "code",
      "execution_count": null,
      "metadata": {
        "id": "_bGDw0XAN12A"
      },
      "outputs": [],
      "source": [
        "def sq(x):\n",
        "  y=x**2\n",
        "  return y\n",
        "\n",
        "def sq(x):\n",
        "  return x**2\n",
        "\n",
        "\n",
        "\n",
        "sq(11)\n",
        "\n",
        "print(f(9))\n",
        "\n",
        "\n",
        "def g(x):\n",
        "  return(x**2)\n",
        "\n",
        "g(6)\n",
        "\n",
        "\n",
        "\n",
        "\n"
      ]
    },
    {
      "cell_type": "code",
      "execution_count": null,
      "metadata": {
        "id": "qvkGqiwiZVAs"
      },
      "outputs": [],
      "source": [
        "def square_fun(num):\n",
        "    return num**2\n",
        "\n",
        "square_fun(23)"
      ]
    },
    {
      "cell_type": "code",
      "execution_count": null,
      "metadata": {
        "id": "IyM6LBwTZnRg"
      },
      "outputs": [],
      "source": [
        "\n",
        "def Bmi_fun(length, weight):\n",
        "  length=length/100\n",
        "  BMI=weight/length**2\n",
        "  return BMI\n",
        "\n",
        "Bmi_fun(180, 80)\n",
        "\n",
        "\n",
        "\n",
        "Bmi_fun(1.70, 75)"
      ]
    },
    {
      "cell_type": "code",
      "execution_count": null,
      "metadata": {
        "id": "P9J-fQKYanTa"
      },
      "outputs": [],
      "source": [
        "length = int(input(\"Enter your length in cm: \"))\n",
        "weight = int(input(\"Enter your weight in kg: \"))\n",
        "bmi=Bmi_fun(length, weight)\n",
        "print('Your Bmi is', bmi)"
      ]
    },
    {
      "cell_type": "code",
      "execution_count": null,
      "metadata": {
        "id": "rLhHoO-4T3Fy"
      },
      "outputs": [],
      "source": [
        "length**2\n",
        "sq(length)\n",
        "\n",
        "\n",
        "def Bmi_fun(length, weight):\n",
        "  length=length/100\n",
        "  BMI=weight/sq(length)\n",
        "  return BMI\n",
        "\n",
        "Bmi_fun(190, 65)"
      ]
    },
    {
      "cell_type": "code",
      "execution_count": null,
      "metadata": {
        "id": "-D42fy7dixgT"
      },
      "outputs": [],
      "source": [
        "def maximum(value1 , value2, value3):\n",
        "    \"\"\"Return the maximum of three values.\"\"\"\n",
        "    max_value = value1\n",
        "    if value2 > max_value:\n",
        "        max_value = value2\n",
        "    if value3 > max_value:\n",
        "        max_value = value3\n",
        "    return max_value\n",
        "\n",
        "maximum(12, 27, 36)\n",
        "\n",
        "maximum(12.3, 45.6, 9.7)\n",
        "\n",
        "maximum('blue', 'red', 'orange')\n",
        "\n",
        "maximum(13.5, -3, 7)"
      ]
    },
    {
      "cell_type": "code",
      "execution_count": null,
      "metadata": {
        "id": "4oNnU3KD6o-l"
      },
      "outputs": [],
      "source": []
    },
    {
      "cell_type": "code",
      "execution_count": null,
      "metadata": {
        "id": "9Z-mW6Zli1Wa"
      },
      "outputs": [],
      "source": [
        "def minn(n1, n2):\n",
        "    if n1<n2:\n",
        "       minn_v=n1\n",
        "    else:\n",
        "       minn_v=n2\n",
        "    return minn_v\n",
        "minn(3,5)\n",
        "\n",
        "minn(3,8)"
      ]
    },
    {
      "cell_type": "code",
      "source": [
        "def minn(n1=8, n2=5):\n",
        "    if n1<n2:\n",
        "       minn_v=n1\n",
        "    else:\n",
        "       minn_v=n2\n",
        "    return minn_v\n",
        "minn(n2=16)\n"
      ],
      "metadata": {
        "id": "W0hr8aC_LENf"
      },
      "execution_count": null,
      "outputs": []
    },
    {
      "cell_type": "code",
      "execution_count": null,
      "metadata": {
        "id": "fRHIS_dJmdzB"
      },
      "outputs": [],
      "source": [
        "def minimum_fun(num1=3, num2=12):\n",
        "    if num1<num2:\n",
        "       minimum_value=num1\n",
        "    else:\n",
        "       minimum_value=num2\n",
        "    return minimum_value\n",
        "\n",
        "minimum_fun()\n",
        "minimum_fun(5,)\n",
        "minimum_fun(num2=5,num1=2)\n",
        "minimum_fun(num1=20)\n",
        "minimum_fun(num2=2, num1=10)\n",
        "\n",
        "import numpy as np\n",
        "\n",
        "x = minimum_fun()\n",
        "y = np.arange(21, 31)\n",
        "\n",
        "m = np.hstack((minimum_fun(),\n",
        "               minimum_fun(5,),\n",
        "               minimum_fun(num2=5,num1=2),\n",
        "               minimum_fun(num1=20),\n",
        "               minimum_fun(num2=2, num1=10)))\n",
        "print(m)\n",
        "\n",
        "m1 = np.vstack((minimum_fun(),\n",
        "               minimum_fun(5,),\n",
        "               minimum_fun(num2=5,num1=2),\n",
        "               minimum_fun(num1=20),\n",
        "               minimum_fun(num2=2, num1=10)))\n",
        "print(m1)\n",
        "x1=[2,5,6]\n",
        "x2=8\n",
        "np.hstack(x1)"
      ]
    },
    {
      "cell_type": "code",
      "execution_count": null,
      "metadata": {
        "id": "n7kVM75PaiGE"
      },
      "outputs": [],
      "source": [
        "def area_under_curve(lower, upper, step):\n",
        "    total_area = 0\n",
        "    x1 = lower\n",
        "    while x1 < upper:\n",
        "         y_lower = x1*x1\n",
        "         x1 = x1 + step\n",
        "         if x1 < upper:\n",
        "           y_higher = x1*x1\n",
        "           area_rectangle = y_lower*step\n",
        "           area_triangle = (y_higher - y_lower)*0.5*step\n",
        "           area_trapezium = area_rectangle + area_triangle\n",
        "           total_area = total_area + area_trapezium\n",
        "    return total_area\n",
        "\n",
        "area_under_curve(0, 1, .0001)"
      ]
    },
    {
      "cell_type": "code",
      "execution_count": null,
      "metadata": {
        "id": "RDRI08AobPhp"
      },
      "outputs": [],
      "source": []
    },
    {
      "cell_type": "code",
      "source": [
        "import numpy as np\n",
        "from matplotlib import pyplot as plt\n",
        "import matplotlib.pyplot as plt\n",
        "\n",
        "def f(t):\n",
        "    return t * t\n",
        "\n",
        "f(5)\n",
        "\n",
        "\n",
        "x=[2,3,4,5]\n",
        "y=[8,9,7,6]\n",
        "plt.plot(x,y,)\n",
        "\n",
        "\n",
        "t = np.arange(-4,4,1/40)\n",
        "plt.plot(t,f(t))\n",
        "distance = np.arange(0, 3, 1/20)\n",
        "plt.fill_between(distance,f(distance),color='red')"
      ],
      "metadata": {
        "id": "18_Rsy49Eh6C"
      },
      "execution_count": null,
      "outputs": []
    },
    {
      "cell_type": "code",
      "execution_count": null,
      "metadata": {
        "id": "Cg0QhAFqn7xa"
      },
      "outputs": [],
      "source": [
        "from scipy.stats import norm\n",
        "norm.pdf(0)\n",
        "\n",
        "def f(x):\n",
        "  prob=1 / np.sqrt(2 * np.pi) * np.exp(-x**2/2)\n",
        "  return prob\n",
        "\n",
        "f(0)\n",
        "\n",
        "1 / np.sqrt(2 * np.pi) * np.exp(0)\n",
        "\n",
        "norm.cdf(0)\n",
        "float(norm.cdf(0))\n",
        "\n"
      ]
    },
    {
      "cell_type": "code",
      "execution_count": null,
      "metadata": {
        "id": "yw7FLCxAvKEZ"
      },
      "outputs": [],
      "source": [
        "\n",
        "def cumnorm(lo, up, step):\n",
        "    total_area=0\n",
        "    x1=lo\n",
        "    while x1 < up:\n",
        "         y_lower=norm.pdf(x1)\n",
        "         x1 = x1 + step\n",
        "         if x1 < up:\n",
        "           y_higher = norm.pdf(x1)\n",
        "           area_rectangle = y_lower*step\n",
        "           area_triangle = (y_higher - y_lower)*0.5*step\n",
        "           area_trapezium = area_rectangle + area_triangle\n",
        "           total_area = total_area + area_trapezium\n",
        "    return total_area\n",
        "\n",
        "cumnorm(-5,0, 0.0001)"
      ]
    },
    {
      "cell_type": "code",
      "execution_count": null,
      "metadata": {
        "id": "IvFVlr3jvNKu"
      },
      "outputs": [],
      "source": [
        "\n",
        "\n",
        "from scipy.stats import norm\n",
        "def g(x):\n",
        "    return norm.pdf(x)\n",
        "g(0)\n",
        "\n",
        "\n",
        "norm.pdf(0)\n",
        "\n",
        "\n"
      ]
    },
    {
      "cell_type": "code",
      "execution_count": null,
      "metadata": {
        "id": "ssaMZL95pDYW"
      },
      "outputs": [],
      "source": [
        "\n",
        "t = np.arange(-5, 5,1/40)\n",
        "plt.plot(t,g(t))\n",
        "selection = np.arange(-1.96, 1.96, 1/400)\n",
        "plt.fill_between(selection,g(selection))\n"
      ]
    },
    {
      "cell_type": "code",
      "execution_count": null,
      "metadata": {
        "id": "ML64iyh2JeAv"
      },
      "outputs": [],
      "source": [
        "\n",
        "t = np.arange(-5,5,1/40)\n",
        "plt.plot(t,g(t))\n",
        "section = np.arange(-1.645, 1.645, 1/40)\n",
        "plt.fill_between(section,g(section))"
      ]
    },
    {
      "cell_type": "code",
      "execution_count": null,
      "metadata": {
        "id": "qBYac32alcE6"
      },
      "outputs": [],
      "source": [
        "import random\n",
        "\n",
        "random.randrange(1, 7)\n",
        "\n",
        "\n",
        "for roll in range(10):\n",
        "    print(random.randrange(1, 7))\n",
        "\n",
        "\n",
        "for roll in range(10):\n",
        "    print(random.randrange(1, 7), end=' ')\n",
        "# Seeding the Random-Number Generator for Reproducibility\n",
        "\n",
        "random.seed(146586)\n",
        "for roll in range(10):\n",
        "    print(random.randrange(1, 7), end=' ')\n",
        "\n",
        "\n",
        "\n",
        "\n"
      ]
    },
    {
      "cell_type": "code",
      "source": [
        "random.seed(146586)\n",
        "for roll in range(10):\n",
        "    print(random.randrange(1, 7), end=' ')\n",
        "\n",
        "random.seed(12)\n",
        "for roll in range(10):\n",
        "    print(random.randrange(1, 7), end=' ')"
      ],
      "metadata": {
        "id": "DXnSiXqKVMP6"
      },
      "execution_count": null,
      "outputs": []
    },
    {
      "cell_type": "code",
      "execution_count": null,
      "metadata": {
        "id": "l_Vol8YZxSqD"
      },
      "outputs": [],
      "source": [
        "random.seed(12)\n",
        "for roll in range(10):\n",
        "    print(random.randrange(1, 7), end=' ')"
      ]
    },
    {
      "cell_type": "code",
      "execution_count": null,
      "metadata": {
        "id": "RDC76xx0NcuP"
      },
      "outputs": [],
      "source": [
        "random.seed(3212332)\n",
        "for roll in range(10):\n",
        "    print(random.randrange(1, 7), end=' ')"
      ]
    },
    {
      "cell_type": "code",
      "execution_count": null,
      "metadata": {
        "id": "B0-3J4xrvQo_"
      },
      "outputs": [],
      "source": [
        "# Creating a Two-Dimensional List\n",
        "a = [[77, 68, 86, 73], [96, 87, 89, 81], [70, 90, 86, 81]]\n",
        "a\n",
        "\n",
        "for row in a:\n",
        "    print(row, end=' ')\n",
        "\n",
        "\n",
        "for row in a:\n",
        "    print(row)\n",
        "\n",
        "\n",
        "for row in a:\n",
        "    for item in row:\n",
        "        print(item, end=' ')\n",
        "    print()\n",
        "\n",
        "\n",
        "\n"
      ]
    },
    {
      "cell_type": "code",
      "execution_count": null,
      "metadata": {
        "id": "CF6l4_WVPZZv"
      },
      "outputs": [],
      "source": [
        "\n",
        "# nested\n",
        "for i, row in enumerate(a):\n",
        "    for j, item in enumerate(row):\n",
        "        print(f'a[{i}][{j}]={item} ', end=' ')\n",
        "    print()"
      ]
    },
    {
      "cell_type": "code",
      "execution_count": null,
      "metadata": {
        "id": "TzsvLfxrPc5O"
      },
      "outputs": [],
      "source": [
        "for i, row in enumerate(a):\n",
        "    for j, item in enumerate(row):\n",
        "        print(f'a[{i}{j}]={item} ', end=' ')\n",
        "    print()\n",
        "\n",
        "list(enumerate(a))\n",
        "list(enumerate([3,7,8,6,5,4]))\n",
        "\n"
      ]
    },
    {
      "cell_type": "code",
      "execution_count": 4,
      "metadata": {
        "id": "-p0khs81BjML",
        "colab": {
          "base_uri": "https://localhost:8080/",
          "height": 481
        },
        "outputId": "596baf7a-a2b1-4f4b-fce0-29e037f1e427"
      },
      "outputs": [
        {
          "output_type": "execute_result",
          "data": {
            "text/plain": [
              "(array([ 9.,  0., 13.,  0., 11.,  0.,  5.,  0.,  9., 13.]),\n",
              " array([1. , 1.5, 2. , 2.5, 3. , 3.5, 4. , 4.5, 5. , 5.5, 6. ]),\n",
              " <BarContainer object of 10 artists>)"
            ]
          },
          "metadata": {},
          "execution_count": 4
        },
        {
          "output_type": "display_data",
          "data": {
            "text/plain": [
              "<Figure size 640x480 with 1 Axes>"
            ],
            "image/png": "[encoded data removed]"
          },
          "metadata": {}
        }
      ],
      "source": [
        "#Sample Graphs for 600, 60,000 and 6,000,000 Die Rolls\n",
        "# Visualizing Die-Roll Frequencies and Percentages\n",
        "\n",
        "import matplotlib.pyplot as plt\n",
        "import numpy as np\n",
        "import random\n",
        "import seaborn as sns\n",
        "\n",
        "# Rolling the Die and Calculating Die Frequencies\n",
        "\n",
        "random.randrange(1, 7)\n",
        "rolls = [random.randrange(1, 7) for i in range(60)]\n",
        "rolls\n",
        "plt.hist(rolls)\n"
      ]
    },
    {
      "cell_type": "markdown",
      "metadata": {
        "id": "NhMwUKIeWDDF"
      },
      "source": [
        "**Try to wite the above code differenly**"
      ]
    },
    {
      "cell_type": "code",
      "execution_count": null,
      "metadata": {
        "id": "X6QVE0AfWB86"
      },
      "outputs": [],
      "source": [
        "\n",
        "rolls1=[0]*60\n",
        "rolls1=[[]]*60\n",
        "for i in range(60):\n",
        "    rolls1[i]=random.randrange(1,7)\n",
        "rolls1\n",
        "\n"
      ]
    },
    {
      "cell_type": "markdown",
      "metadata": {
        "id": "PnCXqIBsW3u8"
      },
      "source": [
        "**Try to show that the outcome of two rolling dices are independent**"
      ]
    },
    {
      "cell_type": "code",
      "execution_count": 61,
      "metadata": {
        "id": "fWadB2fnwo_G",
        "colab": {
          "base_uri": "https://localhost:8080/",
          "height": 447
        },
        "outputId": "7c2e12bd-c195-4c1f-a432-a43d98a7a689"
      },
      "outputs": [
        {
          "output_type": "execute_result",
          "data": {
            "text/plain": [
              "<matplotlib.collections.PathCollection at 0x7dd69f8ead90>"
            ]
          },
          "metadata": {},
          "execution_count": 61
        },
        {
          "output_type": "display_data",
          "data": {
            "text/plain": [
              "<Figure size 640x480 with 1 Axes>"
            ],
            "image/png": "[encoded data removed]"
          },
          "metadata": {}
        }
      ],
      "source": [
        "\n",
        "\n",
        "\n",
        "random.randrange(1, 7)\n",
        "rolls1 = [random.randrange(1, 7) for i in range(600)]\n",
        "rolls1\n",
        "rolls2 = [random.randrange(1, 7) for i in range(600)]\n",
        "rolls2\n",
        "\n",
        "plt.scatter(rolls1, rolls2)"
      ]
    },
    {
      "cell_type": "code",
      "source": [],
      "metadata": {
        "id": "_QvN4DHvkr3g"
      },
      "execution_count": null,
      "outputs": []
    },
    {
      "cell_type": "markdown",
      "metadata": {
        "id": "AIit4q5SXgC6"
      },
      "source": [
        "Show that the outcome of a first rolling dice and some of them to rolling dices are **dependent**"
      ]
    },
    {
      "cell_type": "code",
      "execution_count": 63,
      "metadata": {
        "colab": {
          "base_uri": "https://localhost:8080/",
          "height": 447
        },
        "id": "RD0bbnTsXKyz",
        "outputId": "33c1f3d9-89d5-4030-f640-39dfd3629a35"
      },
      "outputs": [
        {
          "output_type": "execute_result",
          "data": {
            "text/plain": [
              "<matplotlib.collections.PathCollection at 0x7dd69f7ec910>"
            ]
          },
          "metadata": {},
          "execution_count": 63
        },
        {
          "output_type": "display_data",
          "data": {
            "text/plain": [
              "<Figure size 640x480 with 1 Axes>"
            ],
            "image/png": "[encoded data removed]"
          },
          "metadata": {}
        }
      ],
      "source": [
        "\n",
        "sum=rolls1+rolls2\n",
        "sum\n",
        "plt.scatter(sum, rolls1) ## wrong why?\n",
        "\n",
        "len(sum)\n",
        "\n",
        "import pandas as pd\n",
        "rolls1=np.array(rolls1)\n",
        "rolls2=np.array(rolls2)\n",
        "sum_of_dices=rolls1+rolls2\n",
        "plt.scatter(sum_of_dices, rolls1)\n",
        "\n",
        "rolls1=np.array(rolls1)\n",
        "rolls2=np.array(rolls2)\n",
        "sum_of_dices=rolls1+rolls2\n",
        "plt.scatter( rolls1, sum_of_dices)\n",
        "\n"
      ]
    },
    {
      "cell_type": "code",
      "execution_count": null,
      "metadata": {
        "id": "0rZ_lws2XbSc"
      },
      "outputs": [],
      "source": []
    },
    {
      "cell_type": "markdown",
      "metadata": {
        "id": "hWt9e7r0XMgt"
      },
      "source": [
        "Write a function to show the above result **with more numbers:**\n",
        "\n",
        "your function has to has **two outputs**"
      ]
    },
    {
      "cell_type": "code",
      "execution_count": 66,
      "metadata": {
        "id": "InBMa25pVQ2s",
        "colab": {
          "base_uri": "https://localhost:8080/"
        },
        "outputId": "c7059812-8d91-4d50-a406-f43127c1c852"
      },
      "outputs": [
        {
          "output_type": "execute_result",
          "data": {
            "text/plain": [
              "25"
            ]
          },
          "metadata": {},
          "execution_count": 66
        }
      ],
      "source": [
        "def two_out(x):\n",
        "  x2=x**2\n",
        "  x3=x**3\n",
        "  return(x2, x3)\n",
        "\n",
        "two_out(5)\n",
        "two_out(5)[0]\n"
      ]
    },
    {
      "cell_type": "code",
      "execution_count": 78,
      "metadata": {
        "colab": {
          "base_uri": "https://localhost:8080/",
          "height": 447
        },
        "id": "gLf2OT3FXHkt",
        "outputId": "3da9f94f-3a64-407a-d4a1-d68f9522b15e"
      },
      "outputs": [
        {
          "output_type": "execute_result",
          "data": {
            "text/plain": [
              "<matplotlib.collections.PathCollection at 0x7dd698a84350>"
            ]
          },
          "metadata": {},
          "execution_count": 78
        },
        {
          "output_type": "display_data",
          "data": {
            "text/plain": [
              "<Figure size 640x480 with 1 Axes>"
            ],
            "image/png": "[encoded data removed]"
          },
          "metadata": {}
        }
      ],
      "source": [
        "\n",
        "\n",
        "\n",
        "\n",
        "def choosnumber(n, k):\n",
        "  sel1 = [random.randrange(1, n) for i in range(k)]\n",
        "  sel2 = [random.randrange(1, n) for i in range(k)]\n",
        "  sel1=pd.array(sel1)\n",
        "  sel2=pd.array(sel2)\n",
        "  sum_of_selects=sel1+sel2\n",
        "  return (sel1,sel2, sum_of_selects)\n",
        "\n",
        "newdata=choosnumber(700, 6000)\n",
        "\n",
        "\n",
        "plt.scatter(newdata[2], newdata[1])"
      ]
    },
    {
      "cell_type": "markdown",
      "source": [],
      "metadata": {
        "id": "CdHsWjdBe4IG"
      }
    },
    {
      "cell_type": "code",
      "execution_count": 70,
      "metadata": {
        "colab": {
          "base_uri": "https://localhost:8080/",
          "height": 447
        },
        "id": "9SNJ9ndppa6x",
        "outputId": "bf3f84a0-3b16-48f5-8b15-162eac092db6"
      },
      "outputs": [
        {
          "output_type": "execute_result",
          "data": {
            "text/plain": [
              "<matplotlib.collections.PathCollection at 0x7dd699718990>"
            ]
          },
          "metadata": {},
          "execution_count": 70
        },
        {
          "output_type": "display_data",
          "data": {
            "text/plain": [
              "<Figure size 640x480 with 1 Axes>"
            ],
            "image/png": "[encoded data removed]"
          },
          "metadata": {}
        }
      ],
      "source": [
        "newdata=choosnumber(700, 6000)\n",
        "plt.scatter(newdata[1], newdata[0])"
      ]
    },
    {
      "cell_type": "code",
      "execution_count": 5,
      "metadata": {
        "colab": {
          "base_uri": "https://localhost:8080/",
          "height": 662
        },
        "id": "Q7SHVC39cumZ",
        "outputId": "2fef6b7f-c4c5-45a9-9690-5f6a87860c5c"
      },
      "outputs": [
        {
          "output_type": "stream",
          "name": "stderr",
          "text": [
            "<ipython-input-5-6436ee169c41>:9: FutureWarning: \n",
            "\n",
            "Passing `palette` without assigning `hue` is deprecated and will be removed in v0.14.0. Assign the `x` variable to `hue` and set `legend=False` for the same effect.\n",
            "\n",
            "  axes = sns.barplot(x=values, y=frequencies, palette='bright')\n",
            "<ipython-input-5-6436ee169c41>:40: FutureWarning: \n",
            "\n",
            "Passing `palette` without assigning `hue` is deprecated and will be removed in v0.14.0. Assign the `x` variable to `hue` and set `legend=False` for the same effect.\n",
            "\n",
            "  axes = sns.barplot(x=values, y=frequencies, palette='bright')\n"
          ]
        },
        {
          "output_type": "display_data",
          "data": {
            "text/plain": [
              "<Figure size 640x480 with 1 Axes>"
            ],
            "image/png": "[encoded data removed]"
          },
          "metadata": {}
        }
      ],
      "source": [
        "import numpy as np\n",
        "values, frequencies = np.unique(rolls, return_counts=True)\n",
        "\n",
        "# Creating the Initial Bar Plot\n",
        "title = f'Rolling a Six-Sided Die {len(rolls):,} Times'\n",
        "\n",
        "sns.set_style('whitegrid')\n",
        "\n",
        "axes = sns.barplot(x=values, y=frequencies, palette='bright')\n",
        "\n",
        "# Setting the Window Title and Labeling the x- and y-Axes\n",
        "axes.set_title(title)\n",
        "\n",
        "axes.set(xlabel='Die Value', ylabel='Frequency')\n",
        "\n",
        "# Finalizing the Bar Plot\n",
        "axes.set_ylim(top=max(frequencies) * 1.10)\n",
        "\n",
        "for bar, frequency in zip(axes.patches, frequencies):\n",
        "    text_x = bar.get_x() + bar.get_width() / 2.0\n",
        "    text_y = bar.get_height()\n",
        "    text = f'{frequency:,}\\n{frequency / len(rolls):.3%}'\n",
        "    axes.text(text_x, text_y, text,\n",
        "              fontsize=11, ha='center', va='bottom')\n",
        "\n",
        "# Rolling Again and Updating the Bar Plot—Introducing IPython Magics\n",
        "plt.cla()\n",
        "\n",
        "%recall 5\n",
        "\n",
        "rolls = [random.randrange(1, 7) for i in range(600)]\n",
        "\n",
        "rolls = [random.randrange(1, 7) for i in range(60000)]\n",
        "\n",
        "%recall 6-13\n",
        "\n",
        "values, frequencies = np.unique(rolls, return_counts=True)\n",
        "title = f'Rolling a Six-Sided Die {len(rolls):,} Times'\n",
        "sns.set_style('whitegrid')\n",
        "axes = sns.barplot(x=values, y=frequencies, palette='bright')\n",
        "axes.set_title(title)\n",
        "axes.set(xlabel='Die Value', ylabel='Frequency')\n",
        "axes.set_ylim(top=max(frequencies) * 1.10)\n",
        "for bar, frequency in zip(axes.patches, frequencies):\n",
        "    text_x = bar.get_x() + bar.get_width() / 2.0\n",
        "    text_y = bar.get_height()\n",
        "    text = f'{frequency:,}\\n{frequency / len(rolls):.3%}'\n",
        "    axes.text(text_x, text_y, text,\n",
        "              fontsize=11, ha='center', va='bottom')\n",
        "\n",
        "\n",
        "# Saving Snippets to a File with the %save Magic\n",
        "\n",
        "\n",
        "\n",
        "#%save RollDie.py 1-13\n",
        "\n",
        "plt.show()\n",
        "\n"
      ]
    }
  ],
  "metadata": {
    "colab": {
      "cell_execution_strategy": "setup",
      "provenance": [],
      "include_colab_link": true
    },
    "kernelspec": {
      "display_name": "Python 3",
      "name": "python3"
    },
    "language_info": {
      "name": "python"
    }
  },
  "nbformat": 4,
  "nbformat_minor": 0
}