{
  "nbformat": 4,
  "nbformat_minor": 0,
  "metadata": {
    "colab": {
      "provenance": [],
      "authorship_tag": "ABX9TyN+QUnEP5/ukhl3Xqr3tpb9",
      "include_colab_link": true
    },
    "kernelspec": {
      "name": "python3",
      "display_name": "Python 3"
    },
    "language_info": {
      "name": "python"
    }
  },
  "cells": [
    {
      "cell_type": "markdown",
      "metadata": {
        "id": "view-in-github",
        "colab_type": "text"
      },
      "source": [
        "<a href=\"https://colab.research.google.com/github/sheikhi-a/Data_science_with_python/blob/main/regression.ipynb\" target=\"_parent\"><img src=\"https://colab.research.google.com/assets/colab-badge.svg\" alt=\"Open In Colab\"/></a>"
      ]
    },
    {
      "cell_type": "code",
      "execution_count": 36,
      "metadata": {
        "colab": {
          "base_uri": "https://localhost:8080/"
        },
        "id": "Ah3dO-aHu0lk",
        "outputId": "cac44ffe-4cf9-43c1-a598-8a43f025b0f9"
      },
      "outputs": [
        {
          "output_type": "stream",
          "name": "stdout",
          "text": [
            "the regression equation  between study and score is:   \n",
            "    Score= 8.531914893617026 + 0.9361702127659565 study\n"
          ]
        }
      ],
      "source": [
        "#solve directly\n",
        "import numpy as np\n",
        "from numpy import array\n",
        "from numpy.linalg import inv\n",
        "from matplotlib import pyplot\n",
        "\n",
        "data = array([\n",
        "\t[5, 12],\n",
        "\t[6, 13],\n",
        "\t[2, 11],\n",
        "\t[5, 14],\n",
        "\t[8, 17],\n",
        "\t])\n",
        "\n",
        "\n",
        "\n",
        "X, Y = data[:,0], data[:,1]\n",
        "X\n",
        "Y\n",
        "\n",
        "n=len(X)\n",
        "n\n",
        "X_bar = np.mean(X)\n",
        "X_bar  #5.2\n",
        "Y_bar = np.mean(Y)\n",
        "Y_bar # 13.4\n",
        "n*X_bar*Y_bar\n",
        "\n",
        "\n",
        "numerator = np.sum(X  * Y )- n*X_bar*Y_bar\n",
        "denominator = np.sum(X**2)- n*X_bar**2\n",
        "\n",
        "#denominator = np.sum(X**2) - n*(X_mean)**2\n",
        "beta_hat_1 = numerator / denominator\n",
        "beta_hat_0= Y_bar - beta_hat_1 * X_bar\n",
        "\n",
        "print(\"the regression equation is:   \\n   \", \"Y=\",beta_hat_0, \"+\", beta_hat_1,\"X\" )\n",
        "\n",
        "print(\"the regression equation  between study and score is:   \\n   \", \"Score=\",beta_hat_0, \"+\", beta_hat_1,\"study\" )\n"
      ]
    },
    {
      "cell_type": "code",
      "source": [
        "import pandas as pd\n",
        "from sklearn.linear_model import LinearRegression\n",
        "\n",
        "df=pd.DataFrame(data)\n",
        "df.head()\n",
        "df = df.rename(columns={0: 'X', 1: 'Y'}) # you may need inplace=True\n",
        "\n",
        "\n",
        "x = df[['X']] #PREDICTOR\n",
        "y =df['Y']# DEPENDENT\n",
        "\n",
        "reg_model = LinearRegression()\n",
        "reg_model.fit(x, y)\n",
        "\n",
        "beta_hat1 = reg_model.coef_\n",
        "alpha_hat1 = reg_model.intercept_\n",
        "\n",
        "\n",
        "print(\"the regression equation is:      \", \"Y=\",alpha_hat1, \"+\", beta_hat1,\"X\" )\n",
        "\n"
      ],
      "metadata": {
        "colab": {
          "base_uri": "https://localhost:8080/"
        },
        "id": "j-NwZLonDuIp",
        "outputId": "e1a6b6bf-ab5f-448e-9ff7-4a6bdaa88974"
      },
      "execution_count": null,
      "outputs": [
        {
          "output_type": "stream",
          "name": "stdout",
          "text": [
            "the regression equation is:       Y= 0.08215135794934386 + [0.78715288] X\n"
          ]
        }
      ]
    },
    {
      "cell_type": "code",
      "source": [
        "\n",
        "X = X.reshape((len(X), 1))  # reshape X  to a vector\n",
        "X.shape\n",
        "\n",
        "X = np.hstack((np.ones((X.shape[0], 1)), X))\n",
        "\n",
        "X.shape\n",
        "\n",
        "B = inv(X.T.dot(X)).dot(X.T).dot(y)\n",
        "print(B)\n",
        "\n",
        "print(\"the regression equation is:      \", \"Y=\",B[0], \"+\", B[1],\"X1\")\n"
      ],
      "metadata": {
        "colab": {
          "base_uri": "https://localhost:8080/"
        },
        "id": "ZfFadYQsDsy1",
        "outputId": "2f8cec30-cb82-40c1-a34b-f6c42098f495"
      },
      "execution_count": null,
      "outputs": [
        {
          "output_type": "stream",
          "name": "stdout",
          "text": [
            "[0.08215136 0.78715288]\n",
            "the regression equation is:       Y= 0.08215135794934367 + 0.7871528837351236 X1\n"
          ]
        }
      ]
    },
    {
      "cell_type": "code",
      "source": [
        "\n",
        "\n",
        "yhat = X.dot(B)\n",
        "\n",
        "pyplot.scatter(X[:,1], y)\n",
        "pyplot.plot(X[:,1], yhat, color='red')\n",
        "pyplot.show()"
      ],
      "metadata": {
        "colab": {
          "base_uri": "https://localhost:8080/",
          "height": 451
        },
        "id": "8CHyBbr5LJDo",
        "outputId": "c5a2a231-94f4-4ca3-9e8f-bc968eed47c7"
      },
      "execution_count": null,
      "outputs": [
        {
          "output_type": "display_data",
          "data": {
            "text/plain": [
              "<Figure size 640x480 with 1 Axes>"
            ],
            "image/png": "[encoded data removed]"
          },
          "metadata": {}
        }
      ]
    },
    {
      "cell_type": "code",
      "source": [
        "from scipy.stats import pearsonr\n",
        "\n",
        "corr = pearsonr(yhat, y)\n",
        "corr"
      ],
      "metadata": {
        "colab": {
          "base_uri": "https://localhost:8080/"
        },
        "id": "eYPeDH9mLR5y",
        "outputId": "b6b53b95-f521-4b4d-bc73-391d7437ebff"
      },
      "execution_count": null,
      "outputs": [
        {
          "output_type": "execute_result",
          "data": {
            "text/plain": [
              "PearsonRResult(statistic=0.9887330769939926, pvalue=0.0014331990468207868)"
            ]
          },
          "metadata": {},
          "execution_count": 5
        }
      ]
    },
    {
      "cell_type": "code",
      "source": [
        "data = array([\n",
        "\t[0.05, 3, 0.12],\n",
        "\t[0.18, 4,  0.22],\n",
        "\t[0.31,8, 0.95],\n",
        "\t[0.42, 5, 0.38],\n",
        "\t[0.35,1,  0.49],\n",
        "\t])\n",
        "X, y = data[:,0:2], data[:,2]\n",
        "X = np.hstack((np.ones((X.shape[0], 1)), X))\n",
        "\n",
        "X.shape\n",
        "\n",
        "B = inv(X.T.dot(X)).dot(X.T).dot(y)\n",
        "print(B)\n",
        "\n",
        "print(\"the regression equation is:      \", \"Y=\",B[0], \"+\", B[1],\"X1\",'+', B[2], 'X2' )\n",
        "\n",
        "import pandas as pd\n",
        "yhat = X.dot(B)\n",
        "# calculate the Pearson's correlation between two variables\n",
        "\n"
      ],
      "metadata": {
        "colab": {
          "base_uri": "https://localhost:8080/"
        },
        "id": "50rYsKUvw9bB",
        "outputId": "23dd13f8-db4e-4729-a6be-1bfcdd47c3ec"
      },
      "execution_count": null,
      "outputs": [
        {
          "output_type": "execute_result",
          "data": {
            "text/plain": [
              "array([[0.05, 3.  , 0.12],\n",
              "       [0.18, 4.  , 0.22],\n",
              "       [0.31, 8.  , 0.95],\n",
              "       [0.42, 5.  , 0.38],\n",
              "       [0.35, 1.  , 0.49]])"
            ]
          },
          "metadata": {},
          "execution_count": 8
        }
      ]
    },
    {
      "cell_type": "code",
      "source": [
        "df=pd.DataFrame(data)\n",
        "df.head()\n",
        "df = df.rename(columns={0: 'X1', 1: 'X2', 2: 'Y'}) # you may need inplace=True\n",
        "\n",
        "\n",
        "x = df[['X1', 'X2']] #PREDICTOR\n",
        "y =df['Y']# DEPENDENT\n",
        "\n",
        "reg_model = LinearRegression()\n",
        "reg_model.fit(x, y)\n",
        "\n",
        "beta_hat1 = reg_model.coef_\n",
        "alpha_hat1 = reg_model.intercept_\n",
        "\n",
        "\n",
        "print(\"the regression equation is:   \\n\", \"Y=\",alpha_hat1, \"+\", beta_hat1,\"X\" )\n",
        "\n"
      ],
      "metadata": {
        "colab": {
          "base_uri": "https://localhost:8080/"
        },
        "id": "UBaoQ7D8_Bve",
        "outputId": "7bd657c6-45dd-4a25-de12-cd48ba566e81"
      },
      "execution_count": null,
      "outputs": [
        {
          "output_type": "stream",
          "name": "stdout",
          "text": [
            "the regression equation is:   \n",
            " Y= -0.11611542283212917 + [0.97502484 0.06968069] X\n"
          ]
        }
      ]
    },
    {
      "cell_type": "code",
      "source": [
        "data_new = array([\n",
        "\t[0.05, 6, 0.02],\n",
        "\t[0.11, 4,  0.5],\n",
        "  [0.45, 8,  0.05]])\n",
        "\n",
        "x_new=data_new[:,0:2]\n",
        "y_new=data_new[:,2]\n",
        "\n",
        "y_hat=reg_model.predict(x_new)\n",
        "ss_test=np.sum((y_new-y_hat)**2)\n",
        "ss_test\n",
        "\n",
        "corr = pearsonr(y_hat, y_new)\n",
        "corr"
      ],
      "metadata": {
        "colab": {
          "base_uri": "https://localhost:8080/"
        },
        "id": "A1g5DsZY_1O6",
        "outputId": "d98f7d21-2eb1-4711-8916-679be4d0c1f5"
      },
      "execution_count": null,
      "outputs": [
        {
          "output_type": "stream",
          "name": "stderr",
          "text": [
            "/usr/local/lib/python3.10/dist-packages/sklearn/base.py:493: UserWarning: X does not have valid feature names, but LinearRegression was fitted with feature names\n",
            "  warnings.warn(\n"
          ]
        },
        {
          "output_type": "execute_result",
          "data": {
            "text/plain": [
              "PearsonRResult(statistic=-0.5564173349393764, pvalue=0.624351190232977)"
            ]
          },
          "metadata": {},
          "execution_count": 45
        }
      ]
    }
  ]
}