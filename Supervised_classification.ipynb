{
  "nbformat": 4,
  "nbformat_minor": 0,
  "metadata": {
    "colab": {
      "provenance": [],
      "authorship_tag": "ABX9TyP7/lGEh4BJP/6c4G5m3Ad0",
      "include_colab_link": true
    },
    "kernelspec": {
      "name": "python3",
      "display_name": "Python 3"
    },
    "language_info": {
      "name": "python"
    }
  },
  "cells": [
    {
      "cell_type": "markdown",
      "metadata": {
        "id": "view-in-github",
        "colab_type": "text"
      },
      "source": [
        "<a href=\"https://colab.research.google.com/github/sheikhi-a/Data_science_with_python/blob/main/Supervised_classification.ipynb\" target=\"_parent\"><img src=\"https://colab.research.google.com/assets/colab-badge.svg\" alt=\"Open In Colab\"/></a>"
      ]
    },
    {
      "cell_type": "code",
      "source": [
        "import math\n",
        "\n",
        "X = [2, 3, 3.5, 4, 1, 0.5]  # dep. variable\n",
        "y = [0, 1, 1, 1, 0, 0]   # outcome variable (1 = injury, 0 = no injury)\n",
        "\n",
        "\n",
        "#Firstssume thate we have the weight of regression\n",
        "w0 = -5  # intercept\n",
        "w1 = 4   # Weight for the dep. var.\n",
        "\n",
        "\n",
        "#predict the first case\n",
        "predict1 = 1 / (1 +math.exp(-w0-w1*X[0]))\n",
        "\n",
        "if predict1>0.5:\n",
        "   print(\"First Case Prediction: Injury\")\n",
        "else:\n",
        "    print(\"First Case Prediction: Not Injury\")\n",
        "\n",
        "\n",
        "#perdict all cases\n",
        "z = [0] * len(X)\n",
        "p = [0] * len(X)\n",
        "\n",
        "for i in range(len(X)):\n",
        "    z[i] =w0 + w1 * X[i]\n",
        "    p[i] = 1 / (1 + math.exp(-z[i]))\n",
        "\n",
        "p\n",
        "\n",
        "prediction = [0] * len(X)\n",
        "\n",
        "for i in range(len(X)):\n",
        "    prediction[i] = \"Injury\" if p[i] > 0.5 else \"Not Injury\"\n",
        "\n",
        "prediction"
      ],
      "metadata": {
        "id": "zDcOs_lVlMVq",
        "colab": {
          "base_uri": "https://localhost:8080/"
        },
        "outputId": "34b38c86-4c49-4cea-ddd8-a123337fd240"
      },
      "execution_count": null,
      "outputs": [
        {
          "output_type": "execute_result",
          "data": {
            "text/plain": [
              "['Injury', 'Injury', 'Injury', 'Injury', 'Not Injury', 'Not Injury']"
            ]
          },
          "metadata": {},
          "execution_count": 8
        }
      ]
    },
    {
      "cell_type": "code",
      "source": [
        "import matplotlib.pyplot as plt\n",
        "plt.scatter(X, p)\n",
        "plt.axhline(0.5)\n",
        "\n",
        "\n",
        "plt.show()\n",
        "\n",
        "\n",
        "\n",
        "\n",
        "for i in range(len(X)):\n",
        "    if prediction[i] == \"Injury\":\n",
        "        plt.scatter(X[i], 1,  marker='s', color='blue' )\n",
        "    else:\n",
        "        plt.scatter(X[i], 0,  marker='o', color='red')\n",
        "\n",
        "plt.show()\n",
        "for i in range(len(X)):\n",
        "    if y[i] == 1:\n",
        "        plt.scatter(X[i], 1,  marker='s', color='blue' )\n",
        "    else:\n",
        "        plt.scatter(X[i], 0,  marker='o', color='red')\n",
        "plt.show()"
      ],
      "metadata": {
        "id": "Obzc5PhdxRFQ",
        "colab": {
          "base_uri": "https://localhost:8080/",
          "height": 430
        },
        "outputId": "e343b070-cbb2-46d3-a96e-bd5bbe392342"
      },
      "execution_count": null,
      "outputs": [
        {
          "output_type": "display_data",
          "data": {
            "text/plain": [
              "<Figure size 640x480 with 1 Axes>"
            ],
            "image/png": "[encoded data removed]"
          },
          "metadata": {}
        }
      ]
    },
    {
      "cell_type": "markdown",
      "source": [
        "#  Compute the Confusion Matrix"
      ],
      "metadata": {
        "id": "O5kbQ67d5jFT"
      }
    },
    {
      "cell_type": "code",
      "source": [
        "\n",
        "TP = sum(1 for i in range(len(y)) if y[i] == 1 and prediction[i] == 'Injury')  # True Positives\n",
        "TN = sum(1 for i in range(len(y)) if y[i] == 0 and prediction[i] == 'Not Injury')  # True Negatives\n",
        "FP = sum(1 for i in range(len(y)) if y[i] == 0 and prediction[i] == 'Injury')  # False Positives\n",
        "FN = sum(1 for i in range(len(y)) if y[i] == 1 and prediction[i] == 'Not Injury')  # False Negatives\n",
        "\n",
        "#  Print the Confusion Matrix\n",
        "print(\"\\nThe cell of the Confusion Matrix:\")\n",
        "print(\"True Positives (TP):\", TP)\n",
        "print(\"True Negatives (TN):\", TN)\n",
        "print(f\"False Positives (FP): {FP}\")\n",
        "print(f\"False Negatives (FN): {FN}\")\n"
      ],
      "metadata": {
        "colab": {
          "base_uri": "https://localhost:8080/"
        },
        "id": "SRRIB6oZ5gka",
        "outputId": "a5bd74c6-1050-4cbe-9dd2-16eda69b33d8"
      },
      "execution_count": null,
      "outputs": [
        {
          "output_type": "stream",
          "name": "stdout",
          "text": [
            "\n",
            "The cell of the Confusion Matrix:\n",
            "True Positives (TP): 3\n",
            "True Negatives (TN): 2\n",
            "False Positives (FP): 1\n",
            "False Negatives (FN): 0\n"
          ]
        }
      ]
    },
    {
      "cell_type": "markdown",
      "source": [
        "#Visualise the confusion matrix"
      ],
      "metadata": {
        "id": "FHDM_wA661ny"
      }
    },
    {
      "cell_type": "code",
      "source": [
        "\n",
        "import numpy as np\n",
        "import pandas as pd\n",
        "\n",
        "conf_matrix = np.array([[TN, FP],\n",
        "                        [FN, TP]])\n",
        "\n",
        "accuracy=(TN+TP)/(TN+TP+FN+FP)\n",
        "\n",
        "sensitivity = TP / (TP + FN)\n",
        "\n",
        "specificity = TN / (TN + FP)\n",
        "\n",
        "precision = TP / (TP + FP)\n",
        "\n",
        "recall = sensitivity\n",
        "\n",
        "f_measure = 2 * (precision * recall) / (precision + recall)\n",
        "\n",
        "\n",
        "\n",
        "\n"
      ],
      "metadata": {
        "id": "dfRQ2p_i6zuL"
      },
      "execution_count": null,
      "outputs": []
    },
    {
      "cell_type": "code",
      "source": [
        "import seaborn as sns\n",
        "\n",
        "conf_matrix_df = pd.DataFrame(conf_matrix,\n",
        "                               index=[\"Not Injury\", \"Injury\"],\n",
        "                               columns=[\"Not Injury\", \"Injury\"])\n",
        "\n",
        "print(conf_matrix_df)\n",
        "sns.heatmap(conf_matrix_df)\n",
        "plt.xlabel(\"Predicted Label\")\n",
        "plt.ylabel(\"Actual Label\")\n",
        "\n",
        "sns.heatmap(conf_matrix_df, annot=True)\n",
        "\n",
        "sns.heatmap(conf_matrix_df, annot=True,  cmap=\"Blues\")\n",
        "plt.xlabel(\"Predicted Label\")\n",
        "plt.ylabel(\"Actual Label\")\n"
      ],
      "metadata": {
        "id": "JrvMCLgT_c9D",
        "colab": {
          "base_uri": "https://localhost:8080/",
          "height": 523
        },
        "outputId": "5bf1e750-f6fc-4ea1-b889-b8172d73e725"
      },
      "execution_count": null,
      "outputs": [
        {
          "output_type": "stream",
          "name": "stdout",
          "text": [
            "            Not Injury  Injury\n",
            "Not Injury           2       1\n",
            "Injury               0       3\n"
          ]
        },
        {
          "output_type": "execute_result",
          "data": {
            "text/plain": [
              "Text(50.722222222222214, 0.5, 'Actual Label')"
            ]
          },
          "metadata": {},
          "execution_count": 18
        },
        {
          "output_type": "display_data",
          "data": {
            "text/plain": [
              "<Figure size 640x480 with 2 Axes>"
            ],
            "image/png": "[encoded data removed]"
          },
          "metadata": {}
        }
      ]
    },
    {
      "cell_type": "markdown",
      "source": [
        "# Multiple  logistic regression"
      ],
      "metadata": {
        "id": "jfHDJEHXB2Yu"
      }
    },
    {
      "cell_type": "code",
      "source": [
        "\n",
        "X = [(2, 25), (3, 30), (3.5, 22), (4, 29), (1, 24), (0.5, 41)]\n",
        "y = [0, 1, 1, 1, 0, 0]\n",
        "\n",
        "w0 = -5\n",
        "w1 = 1.5\n",
        "w2 = 0.1\n",
        "\n",
        "predict1 = 1 / (1 + math.exp(-w0 - w1 * X[0][0] - w2 * X[0][1]))\n",
        "\n",
        "if predict1 > 0.5:\n",
        "    print(\"First Case Prediction: Injury\")\n",
        "else:\n",
        "    print(\"First Case Prediction: Not Injury\")\n",
        "\n",
        "z = [0] * len(X)\n",
        "p = [0] * len(X)\n",
        "\n",
        "for i in range(len(X)):\n",
        "    z[i] = w0 + w1 * X[i][0] + w2 * X[i][1]\n",
        "    p[i] = 1 / (1 + math.exp(-z[i]))\n",
        "p\n",
        "\n",
        "prediction = [0] * len(X)\n",
        "\n",
        "for i in range(len(X)):\n",
        "    prediction[i] = \"Injury\" if p[i] > 0.5 else \"Not Injury\"\n",
        "\n",
        "print(\"Predictions:\", prediction)\n"
      ],
      "metadata": {
        "colab": {
          "base_uri": "https://localhost:8080/"
        },
        "id": "67A6pHGvB1el",
        "outputId": "1d3447ac-c5c9-4826-9a6f-448ea48a0975"
      },
      "execution_count": null,
      "outputs": [
        {
          "output_type": "stream",
          "name": "stdout",
          "text": [
            "First Case Prediction: Injury\n",
            "Predictions: ['Injury', 'Injury', 'Injury', 'Injury', 'Not Injury', 'Not Injury']\n"
          ]
        }
      ]
    },
    {
      "cell_type": "code",
      "source": [
        "\n",
        "TP = sum(1 for i in range(len(y)) if y[i] == 1 and prediction[i] == 'Injury')  # True Positives\n",
        "TN = sum(1 for i in range(len(y)) if y[i] == 0 and prediction[i] == 'Not Injury')  # True Negatives\n",
        "FP = sum(1 for i in range(len(y)) if y[i] == 0 and prediction[i] == 'Injury')  # False Positives\n",
        "FN = sum(1 for i in range(len(y)) if y[i] == 1 and prediction[i] == 'Not Injury')  # False Negatives\n",
        "\n",
        "#  Print the Confusion Matrix\n",
        "print(\"\\nThe cell of the Confusion Matrix:\")\n",
        "print(\"True Positives (TP):\", TP)\n",
        "print(\"True Negatives (TN):\", TN)\n",
        "print(f\"False Positives (FP): {FP}\")\n",
        "print(f\"False Negatives (FN): {FN}\")"
      ],
      "metadata": {
        "colab": {
          "base_uri": "https://localhost:8080/"
        },
        "id": "XXaCSC92FPc_",
        "outputId": "555b5dff-5a8a-43fb-a6b1-faa9350f2053"
      },
      "execution_count": null,
      "outputs": [
        {
          "output_type": "stream",
          "name": "stdout",
          "text": [
            "\n",
            "The cell of the Confusion Matrix:\n",
            "True Positives (TP): 3\n",
            "True Negatives (TN): 2\n",
            "False Positives (FP): 1\n",
            "False Negatives (FN): 0\n"
          ]
        }
      ]
    },
    {
      "cell_type": "code",
      "source": [
        "import numpy as np\n",
        "import pandas as pd\n",
        "\n",
        "\n",
        "conf_matrix_df = pd.DataFrame(conf_matrix,\n",
        "                               index=[\"Not Injury\", \"Injury\"],\n",
        "                               columns=[\"Not Injury\", \"Injury\"])\n",
        "\n",
        "print(conf_matrix_df)"
      ],
      "metadata": {
        "id": "xJ3Ca0o3FKUX",
        "colab": {
          "base_uri": "https://localhost:8080/"
        },
        "outputId": "c246df10-fc7b-4f65-ade2-87bf76d2ef2f"
      },
      "execution_count": null,
      "outputs": [
        {
          "output_type": "stream",
          "name": "stdout",
          "text": [
            "            Not Injury  Injury\n",
            "Not Injury           2       1\n",
            "Injury               0       3\n"
          ]
        }
      ]
    },
    {
      "cell_type": "code",
      "source": [
        "sns.heatmap(conf_matrix_df, annot=True,  cmap=\"Blues\")\n",
        "plt.xlabel(\"Predicted Label\")\n",
        "plt.ylabel(\"Actual Label\")"
      ],
      "metadata": {
        "colab": {
          "base_uri": "https://localhost:8080/",
          "height": 472
        },
        "id": "9RmhnJN3FcSz",
        "outputId": "16e445e3-057c-4495-939f-9bb36823e5eb"
      },
      "execution_count": null,
      "outputs": [
        {
          "output_type": "execute_result",
          "data": {
            "text/plain": [
              "Text(50.722222222222214, 0.5, 'Actual Label')"
            ]
          },
          "metadata": {},
          "execution_count": 22
        },
        {
          "output_type": "display_data",
          "data": {
            "text/plain": [
              "<Figure size 640x480 with 2 Axes>"
            ],
            "image/png": "[encoded data removed]"
          },
          "metadata": {}
        }
      ]
    },
    {
      "cell_type": "code",
      "source": [
        "from sklearn.linear_model import LogisticRegression\n",
        "from sklearn.metrics import accuracy_score, confusion_matrix, precision_score, recall_score, f1_score\n",
        "\n",
        "\n",
        "\n",
        "model = LogisticRegression()\n",
        "\n",
        "model.fit(X, y)\n",
        "model.intercept_\n",
        "model.coef_\n",
        "\n",
        "y_pred = model.predict(X)\n",
        "\n",
        "print(\"Predictions:\", y_pred)\n",
        "\n",
        "cm = confusion_matrix(y, y_pred)\n",
        "cm\n",
        "\n",
        "\n",
        "sns.heatmap(cm, annot=True,  cmap=\"Blues\")\n",
        "plt.xlabel(\"Predicted Label\")\n",
        "plt.ylabel(\"Actual Label\")\n",
        "\n",
        "accuracy = accuracy_score(y, y_pred)\n",
        "precision = precision_score(y, y_pred)\n",
        "recall = recall_score(y, y_pred)\n",
        "f1 = f1_score(y, y_pred)"
      ],
      "metadata": {
        "id": "S0wpdH6mGDLf",
        "colab": {
          "base_uri": "https://localhost:8080/",
          "height": 472
        },
        "outputId": "7a43f0dd-733b-430a-a4f1-038f20e78e9a"
      },
      "execution_count": null,
      "outputs": [
        {
          "output_type": "execute_result",
          "data": {
            "text/plain": [
              "Text(50.722222222222214, 0.5, 'Actual Label')"
            ]
          },
          "metadata": {},
          "execution_count": 27
        },
        {
          "output_type": "display_data",
          "data": {
            "text/plain": [
              "<Figure size 640x480 with 2 Axes>"
            ],
            "image/png": "[encoded data removed]"
          },
          "metadata": {}
        }
      ]
    },
    {
      "cell_type": "markdown",
      "source": [
        "# Real Data classification"
      ],
      "metadata": {
        "id": "WAm1jqayxg55"
      }
    },
    {
      "cell_type": "code",
      "source": [
        "diabetes_df = pd.read_csv(\"diabetes.csv\")\n",
        "diabetes_df.head(5)\n",
        "diabetes_df.shape\n"
      ],
      "metadata": {
        "colab": {
          "base_uri": "https://localhost:8080/"
        },
        "id": "Yd1zijBJxePI",
        "outputId": "780a7f11-b524-4b2b-b2d5-7a42e438e915"
      },
      "execution_count": null,
      "outputs": [
        {
          "output_type": "execute_result",
          "data": {
            "text/plain": [
              "(768, 9)"
            ]
          },
          "metadata": {},
          "execution_count": 28
        }
      ]
    },
    {
      "cell_type": "code",
      "source": [
        "\n",
        "from sklearn.model_selection import train_test_split\n",
        "from sklearn.metrics import confusion_matrix, classification_report\n",
        "\n",
        "\n",
        "X = diabetes_df.drop(columns=[\"diabetes\"])\n",
        "y = diabetes_df[\"diabetes\"]\n",
        "\n",
        "X_train, X_test, y_train, y_test = train_test_split(X, y, test_size=0.2, random_state=42)\n",
        "model = LogisticRegression()\n",
        "\n",
        "model.fit(X_train, y_train)\n",
        "model.intercept_\n",
        "model.coef_\n",
        "\n",
        "y_pred = model.predict(X_test)\n",
        "\n",
        "print(\"Predictions:\", y_pred)\n",
        "\n",
        "cm = confusion_matrix(y_test, y_pred)\n",
        "cm\n",
        "\n",
        "accuracy = accuracy_score(y_test, y_pred)\n",
        "precision = precision_score(y_test, y_pred)\n",
        "recall = recall_score(y_test, y_pred)\n",
        "f1 = f1_score(y_test, y_pred)\n",
        "\n",
        "print(classification_report(y_test, y_pred))\n",
        "\n",
        "sns.heatmap(cm, annot=True,  cmap=\"Blues\")\n",
        "plt.xlabel(\"Predicted Label\")\n",
        "plt.ylabel(\"Actual Label\")\n",
        "\n"
      ],
      "metadata": {
        "colab": {
          "base_uri": "https://localhost:8080/",
          "height": 466
        },
        "id": "2cc-ifxzyR4c",
        "outputId": "1561a9c6-bd96-4419-f5eb-0c8c6bcd2fd1"
      },
      "execution_count": null,
      "outputs": [
        {
          "output_type": "execute_result",
          "data": {
            "text/plain": [
              "Text(50.722222222222214, 0.5, 'Actual Label')"
            ]
          },
          "metadata": {},
          "execution_count": 33
        },
        {
          "output_type": "display_data",
          "data": {
            "text/plain": [
              "<Figure size 640x480 with 2 Axes>"
            ],
            "image/png": "[encoded data removed]"
          },
          "metadata": {}
        }
      ]
    },
    {
      "cell_type": "code",
      "source": [
        "import statsmodels.api as sm\n",
        "X_train_sm = sm.add_constant(X_train)\n",
        "\n",
        "\n",
        "logit_model = sm.Logit(y_train, X_train_sm)\n",
        "result = logit_model.fit()\n",
        "\n",
        "print(result.summary())\n",
        "\n",
        "\n",
        "\n",
        "coefficients = result.params\n",
        "p_values = result.pvalues\n",
        "\n",
        "\n",
        "p_values_sort = p_values.sort_values()\n",
        "\n",
        "p_values_sort[1:].plot(kind='barh')\n",
        "plt.axvline(0.05)\n",
        "\n",
        "\n",
        "\n",
        "# Convert p-values to -log(p) for better visualization\n",
        "neg_log_p_values = -np.log10(p_values)\n",
        "neg_log_p_values_sort = neg_log_p_values.sort_values()\n",
        "neg_log_p_values_sort[1:].plot(kind='barh')\n",
        "plt.axvline(-np.log10(0.05))\n"
      ],
      "metadata": {
        "colab": {
          "base_uri": "https://localhost:8080/",
          "height": 447
        },
        "id": "euHWWB_B7e7M",
        "outputId": "03d20b83-9c1f-4b49-e413-73a986e1cf30"
      },
      "execution_count": null,
      "outputs": [
        {
          "output_type": "execute_result",
          "data": {
            "text/plain": [
              "<matplotlib.lines.Line2D at 0x7da8914277c0>"
            ]
          },
          "metadata": {},
          "execution_count": 45
        },
        {
          "output_type": "display_data",
          "data": {
            "text/plain": [
              "<Figure size 640x480 with 1 Axes>"
            ],
            "image/png": "[encoded data removed]"
          },
          "metadata": {}
        }
      ]
    },
    {
      "cell_type": "code",
      "source": [
        "from sklearn.model_selection import cross_val_score, KFold\n",
        "from sklearn.neighbors import KNeighborsClassifier\n",
        "from sklearn.tree import DecisionTreeClassifier\n",
        "from sklearn.linear_model import LogisticRegression\n",
        "\n",
        "model =  LogisticRegression()\n",
        "\n",
        "kf = KFold(n_splits=5, random_state=12, shuffle=True)\n",
        "\n",
        "cv_results = cross_val_score(model, X_train, y_train, cv=kf)\n",
        "\n",
        "print(np.mean(cv_results))\n",
        "\n",
        "\n"
      ],
      "metadata": {
        "id": "b5pon0VwHHwD",
        "colab": {
          "base_uri": "https://localhost:8080/"
        },
        "outputId": "9f07b23e-2f52-42de-fd00-1ac1bc2236b8"
      },
      "execution_count": null,
      "outputs": [
        {
          "output_type": "stream",
          "name": "stdout",
          "text": [
            "0.7638677862188458\n"
          ]
        },
        {
          "output_type": "stream",
          "name": "stderr",
          "text": [
            "/usr/local/lib/python3.10/dist-packages/sklearn/linear_model/_logistic.py:465: ConvergenceWarning: lbfgs failed to converge (status=1):\n",
            "STOP: TOTAL NO. of ITERATIONS REACHED LIMIT.\n",
            "\n",
            "Increase the number of iterations (max_iter) or scale the data as shown in:\n",
            "    https://scikit-learn.org/stable/modules/preprocessing.html\n",
            "Please also refer to the documentation for alternative solver options:\n",
            "    https://scikit-learn.org/stable/modules/linear_model.html#logistic-regression\n",
            "  n_iter_i = _check_optimize_result(\n",
            "/usr/local/lib/python3.10/dist-packages/sklearn/linear_model/_logistic.py:465: ConvergenceWarning: lbfgs failed to converge (status=1):\n",
            "STOP: TOTAL NO. of ITERATIONS REACHED LIMIT.\n",
            "\n",
            "Increase the number of iterations (max_iter) or scale the data as shown in:\n",
            "    https://scikit-learn.org/stable/modules/preprocessing.html\n",
            "Please also refer to the documentation for alternative solver options:\n",
            "    https://scikit-learn.org/stable/modules/linear_model.html#logistic-regression\n",
            "  n_iter_i = _check_optimize_result(\n",
            "/usr/local/lib/python3.10/dist-packages/sklearn/linear_model/_logistic.py:465: ConvergenceWarning: lbfgs failed to converge (status=1):\n",
            "STOP: TOTAL NO. of ITERATIONS REACHED LIMIT.\n",
            "\n",
            "Increase the number of iterations (max_iter) or scale the data as shown in:\n",
            "    https://scikit-learn.org/stable/modules/preprocessing.html\n",
            "Please also refer to the documentation for alternative solver options:\n",
            "    https://scikit-learn.org/stable/modules/linear_model.html#logistic-regression\n",
            "  n_iter_i = _check_optimize_result(\n",
            "/usr/local/lib/python3.10/dist-packages/sklearn/linear_model/_logistic.py:465: ConvergenceWarning: lbfgs failed to converge (status=1):\n",
            "STOP: TOTAL NO. of ITERATIONS REACHED LIMIT.\n",
            "\n",
            "Increase the number of iterations (max_iter) or scale the data as shown in:\n",
            "    https://scikit-learn.org/stable/modules/preprocessing.html\n",
            "Please also refer to the documentation for alternative solver options:\n",
            "    https://scikit-learn.org/stable/modules/linear_model.html#logistic-regression\n",
            "  n_iter_i = _check_optimize_result(\n",
            "/usr/local/lib/python3.10/dist-packages/sklearn/linear_model/_logistic.py:465: ConvergenceWarning: lbfgs failed to converge (status=1):\n",
            "STOP: TOTAL NO. of ITERATIONS REACHED LIMIT.\n",
            "\n",
            "Increase the number of iterations (max_iter) or scale the data as shown in:\n",
            "    https://scikit-learn.org/stable/modules/preprocessing.html\n",
            "Please also refer to the documentation for alternative solver options:\n",
            "    https://scikit-learn.org/stable/modules/linear_model.html#logistic-regression\n",
            "  n_iter_i = _check_optimize_result(\n"
          ]
        },
        {
          "output_type": "execute_result",
          "data": {
            "text/plain": [
              "array([0.73170732, 0.77235772, 0.74796748, 0.78861789, 0.77868852])"
            ]
          },
          "metadata": {},
          "execution_count": 72
        }
      ]
    },
    {
      "cell_type": "code",
      "source": [
        "from sklearn.model_selection import cross_val_score, KFold\n",
        "from sklearn.neighbors import KNeighborsClassifier\n",
        "from sklearn.tree import DecisionTreeClassifier\n",
        "from sklearn.linear_model import LogisticRegression\n",
        "\n",
        "models = {\"Logistic Regression\": LogisticRegression(),\n",
        "          \"KNN\": KNeighborsClassifier(),\n",
        "          \"Decision Tree Classifier\": DecisionTreeClassifier()}\n",
        "results = []\n",
        "\n",
        "# Loop through the models' values\n",
        "for model in models.values():\n",
        "\n",
        "  # Instantiate a KFold object\n",
        "  kf = KFold(n_splits=6, random_state=12, shuffle=True)\n",
        "\n",
        "  # Perform cross-validation\n",
        "  cv_results = cross_val_score(model, X_train, y_train, cv=kf)\n",
        "  results.append(cv_results)\n",
        "\n",
        "\n",
        "plt.boxplot(results, labels=models.keys())\n",
        "plt.show()"
      ],
      "metadata": {
        "colab": {
          "base_uri": "https://localhost:8080/"
        },
        "id": "WATvadlwHMLq",
        "outputId": "c83947ca-3356-4b88-8bdc-180c5004020f"
      },
      "execution_count": null,
      "outputs": [
        {
          "output_type": "execute_result",
          "data": {
            "text/plain": [
              "dict_values([LogisticRegression(), KNeighborsClassifier(), DecisionTreeClassifier()])"
            ]
          },
          "metadata": {},
          "execution_count": 51
        }
      ]
    }
  ]
}